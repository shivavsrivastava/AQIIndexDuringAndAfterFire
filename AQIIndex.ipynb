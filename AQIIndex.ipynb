{
 "cells": [
  {
   "cell_type": "markdown",
   "metadata": {},
   "source": [
    "## An exploration of wide ranging effects of wildfires on AQI index and population's health "
   ]
  },
  {
   "cell_type": "code",
   "execution_count": 67,
   "metadata": {},
   "outputs": [
    {
     "name": "stdout",
     "output_type": "stream",
     "text": [
      "Setup Complete\n"
     ]
    }
   ],
   "source": [
    "import math\n",
    "import geopandas as gpd\n",
    "import pandas as pd\n",
    "from shapely.geometry import MultiPolygon\n",
    "import plotly.graph_objects as go\n",
    "import plotly.express as px\n",
    "import numpy as np\n",
    "\n",
    "import folium\n",
    "from folium import Choropleth, Marker\n",
    "from folium.plugins import HeatMap, MarkerCluster\n",
    "print(\"Setup Complete\")"
   ]
  },
  {
   "cell_type": "markdown",
   "metadata": {},
   "source": [
    "### Section 1: Exploring the California 5 year fire dataset"
   ]
  },
  {
   "cell_type": "code",
   "execution_count": 68,
   "metadata": {},
   "outputs": [
    {
     "data": {
      "text/html": [
       "<div>\n",
       "<style scoped>\n",
       "    .dataframe tbody tr th:only-of-type {\n",
       "        vertical-align: middle;\n",
       "    }\n",
       "\n",
       "    .dataframe tbody tr th {\n",
       "        vertical-align: top;\n",
       "    }\n",
       "\n",
       "    .dataframe thead th {\n",
       "        text-align: right;\n",
       "    }\n",
       "</style>\n",
       "<table border=\"1\" class=\"dataframe\">\n",
       "  <thead>\n",
       "    <tr style=\"text-align: right;\">\n",
       "      <th></th>\n",
       "      <th>OBJECTID</th>\n",
       "      <th>YEAR_</th>\n",
       "      <th>STATE</th>\n",
       "      <th>AGENCY</th>\n",
       "      <th>UNIT_ID</th>\n",
       "      <th>FIRE_NAME</th>\n",
       "      <th>INC_NUM</th>\n",
       "      <th>ALARM_DATE</th>\n",
       "      <th>CONT_DATE</th>\n",
       "      <th>CAUSE</th>\n",
       "      <th>COMMENTS</th>\n",
       "      <th>REPORT_AC</th>\n",
       "      <th>GIS_ACRES</th>\n",
       "      <th>C_METHOD</th>\n",
       "      <th>OBJECTIVE</th>\n",
       "      <th>FIRE_NUM</th>\n",
       "      <th>SHAPEAREA</th>\n",
       "      <th>SHAPELEN</th>\n",
       "      <th>geometry</th>\n",
       "    </tr>\n",
       "  </thead>\n",
       "  <tbody>\n",
       "    <tr>\n",
       "      <th>0</th>\n",
       "      <td>21462</td>\n",
       "      <td>2020</td>\n",
       "      <td>CA</td>\n",
       "      <td>CDF</td>\n",
       "      <td>CZU</td>\n",
       "      <td>CZU LIGHTNING COMPLEX</td>\n",
       "      <td>00005205</td>\n",
       "      <td>2020-08-16</td>\n",
       "      <td>2020-09-24</td>\n",
       "      <td>1</td>\n",
       "      <td>None</td>\n",
       "      <td>86509.0</td>\n",
       "      <td>86553.460938</td>\n",
       "      <td>7</td>\n",
       "      <td>1</td>\n",
       "      <td>None</td>\n",
       "      <td>5.523185e+08</td>\n",
       "      <td>255052.193260</td>\n",
       "      <td>MULTIPOLYGON (((-13594665.665 4447773.307, -13...</td>\n",
       "    </tr>\n",
       "    <tr>\n",
       "      <th>1</th>\n",
       "      <td>21480</td>\n",
       "      <td>2020</td>\n",
       "      <td>CA</td>\n",
       "      <td>CDF</td>\n",
       "      <td>ORC</td>\n",
       "      <td>SILVERADO</td>\n",
       "      <td>20121364</td>\n",
       "      <td>2020-10-26</td>\n",
       "      <td>2020-11-02</td>\n",
       "      <td>14</td>\n",
       "      <td>None</td>\n",
       "      <td>0.0</td>\n",
       "      <td>12469.200195</td>\n",
       "      <td>7</td>\n",
       "      <td>1</td>\n",
       "      <td>None</td>\n",
       "      <td>7.312598e+07</td>\n",
       "      <td>65362.593575</td>\n",
       "      <td>POLYGON ((-13103802.000 3995244.000, -13103693...</td>\n",
       "    </tr>\n",
       "    <tr>\n",
       "      <th>2</th>\n",
       "      <td>21481</td>\n",
       "      <td>2020</td>\n",
       "      <td>CA</td>\n",
       "      <td>CDF</td>\n",
       "      <td>ORC</td>\n",
       "      <td>BLUE RIDGE</td>\n",
       "      <td>20121612</td>\n",
       "      <td>2020-10-26</td>\n",
       "      <td>2020-11-02</td>\n",
       "      <td>14</td>\n",
       "      <td>None</td>\n",
       "      <td>0.0</td>\n",
       "      <td>13694.530273</td>\n",
       "      <td>7</td>\n",
       "      <td>1</td>\n",
       "      <td>None</td>\n",
       "      <td>8.067187e+07</td>\n",
       "      <td>65838.875384</td>\n",
       "      <td>POLYGON ((-13106401.000 4020965.000, -13106362...</td>\n",
       "    </tr>\n",
       "    <tr>\n",
       "      <th>3</th>\n",
       "      <td>21482</td>\n",
       "      <td>2020</td>\n",
       "      <td>CA</td>\n",
       "      <td>CDF</td>\n",
       "      <td>ORC</td>\n",
       "      <td>BOND</td>\n",
       "      <td>20136890</td>\n",
       "      <td>2020-12-03</td>\n",
       "      <td>2020-12-07</td>\n",
       "      <td>14</td>\n",
       "      <td>None</td>\n",
       "      <td>0.0</td>\n",
       "      <td>6681.101074</td>\n",
       "      <td>7</td>\n",
       "      <td>1</td>\n",
       "      <td>None</td>\n",
       "      <td>3.920048e+07</td>\n",
       "      <td>52771.365477</td>\n",
       "      <td>POLYGON ((-13095398.000 3994547.000, -13095325...</td>\n",
       "    </tr>\n",
       "    <tr>\n",
       "      <th>4</th>\n",
       "      <td>21515</td>\n",
       "      <td>2020</td>\n",
       "      <td>CA</td>\n",
       "      <td>CCO</td>\n",
       "      <td>KRN</td>\n",
       "      <td>STAGECOACH</td>\n",
       "      <td>02033315</td>\n",
       "      <td>2020-08-03</td>\n",
       "      <td>2020-08-03</td>\n",
       "      <td>14</td>\n",
       "      <td>None</td>\n",
       "      <td>7750.0</td>\n",
       "      <td>7750.637207</td>\n",
       "      <td>1</td>\n",
       "      <td>1</td>\n",
       "      <td>None</td>\n",
       "      <td>4.737386e+07</td>\n",
       "      <td>46920.338200</td>\n",
       "      <td>POLYGON ((-13188248.679 4224512.550, -13188385...</td>\n",
       "    </tr>\n",
       "  </tbody>\n",
       "</table>\n",
       "</div>"
      ],
      "text/plain": [
       "   OBJECTID YEAR_ STATE AGENCY UNIT_ID              FIRE_NAME   INC_NUM  \\\n",
       "0     21462  2020    CA    CDF     CZU  CZU LIGHTNING COMPLEX  00005205   \n",
       "1     21480  2020    CA    CDF     ORC              SILVERADO  20121364   \n",
       "2     21481  2020    CA    CDF     ORC             BLUE RIDGE  20121612   \n",
       "3     21482  2020    CA    CDF     ORC                   BOND  20136890   \n",
       "4     21515  2020    CA    CCO     KRN             STAGECOACH  02033315   \n",
       "\n",
       "   ALARM_DATE   CONT_DATE  CAUSE COMMENTS  REPORT_AC     GIS_ACRES  C_METHOD  \\\n",
       "0  2020-08-16  2020-09-24      1     None    86509.0  86553.460938         7   \n",
       "1  2020-10-26  2020-11-02     14     None        0.0  12469.200195         7   \n",
       "2  2020-10-26  2020-11-02     14     None        0.0  13694.530273         7   \n",
       "3  2020-12-03  2020-12-07     14     None        0.0   6681.101074         7   \n",
       "4  2020-08-03  2020-08-03     14     None     7750.0   7750.637207         1   \n",
       "\n",
       "   OBJECTIVE FIRE_NUM     SHAPEAREA       SHAPELEN  \\\n",
       "0          1     None  5.523185e+08  255052.193260   \n",
       "1          1     None  7.312598e+07   65362.593575   \n",
       "2          1     None  8.067187e+07   65838.875384   \n",
       "3          1     None  3.920048e+07   52771.365477   \n",
       "4          1     None  4.737386e+07   46920.338200   \n",
       "\n",
       "                                            geometry  \n",
       "0  MULTIPOLYGON (((-13594665.665 4447773.307, -13...  \n",
       "1  POLYGON ((-13103802.000 3995244.000, -13103693...  \n",
       "2  POLYGON ((-13106401.000 4020965.000, -13106362...  \n",
       "3  POLYGON ((-13095398.000 3994547.000, -13095325...  \n",
       "4  POLYGON ((-13188248.679 4224512.550, -13188385...  "
      ]
     },
     "execution_count": 68,
     "metadata": {},
     "output_type": "execute_result"
    }
   ],
   "source": [
    "cal_fire_data = gpd.read_file(\"/DATASETS/CLIMATE_DATASETS/FIRE_DATASET/California_Fire_Perimeters_(Recent).shp\")\n",
    "cal_fire_data.head()"
   ]
  },
  {
   "cell_type": "code",
   "execution_count": 69,
   "metadata": {},
   "outputs": [
    {
     "data": {
      "text/html": [
       "<div>\n",
       "<style scoped>\n",
       "    .dataframe tbody tr th:only-of-type {\n",
       "        vertical-align: middle;\n",
       "    }\n",
       "\n",
       "    .dataframe tbody tr th {\n",
       "        vertical-align: top;\n",
       "    }\n",
       "\n",
       "    .dataframe thead th {\n",
       "        text-align: right;\n",
       "    }\n",
       "</style>\n",
       "<table border=\"1\" class=\"dataframe\">\n",
       "  <thead>\n",
       "    <tr style=\"text-align: right;\">\n",
       "      <th></th>\n",
       "      <th>UNIT_ID</th>\n",
       "      <th>FIRE_NAME</th>\n",
       "      <th>ALARM_DATE</th>\n",
       "      <th>CONT_DATE</th>\n",
       "      <th>GIS_ACRES</th>\n",
       "      <th>geometry</th>\n",
       "    </tr>\n",
       "  </thead>\n",
       "  <tbody>\n",
       "    <tr>\n",
       "      <th>0</th>\n",
       "      <td>CZU</td>\n",
       "      <td>CZU LIGHTNING COMPLEX</td>\n",
       "      <td>2020-08-16</td>\n",
       "      <td>2020-09-24</td>\n",
       "      <td>86553.460938</td>\n",
       "      <td>MULTIPOLYGON (((-13594665.665 4447773.307, -13...</td>\n",
       "    </tr>\n",
       "    <tr>\n",
       "      <th>1</th>\n",
       "      <td>ORC</td>\n",
       "      <td>SILVERADO</td>\n",
       "      <td>2020-10-26</td>\n",
       "      <td>2020-11-02</td>\n",
       "      <td>12469.200195</td>\n",
       "      <td>POLYGON ((-13103802.000 3995244.000, -13103693...</td>\n",
       "    </tr>\n",
       "    <tr>\n",
       "      <th>2</th>\n",
       "      <td>ORC</td>\n",
       "      <td>BLUE RIDGE</td>\n",
       "      <td>2020-10-26</td>\n",
       "      <td>2020-11-02</td>\n",
       "      <td>13694.530273</td>\n",
       "      <td>POLYGON ((-13106401.000 4020965.000, -13106362...</td>\n",
       "    </tr>\n",
       "    <tr>\n",
       "      <th>3</th>\n",
       "      <td>ORC</td>\n",
       "      <td>BOND</td>\n",
       "      <td>2020-12-03</td>\n",
       "      <td>2020-12-07</td>\n",
       "      <td>6681.101074</td>\n",
       "      <td>POLYGON ((-13095398.000 3994547.000, -13095325...</td>\n",
       "    </tr>\n",
       "    <tr>\n",
       "      <th>4</th>\n",
       "      <td>KRN</td>\n",
       "      <td>STAGECOACH</td>\n",
       "      <td>2020-08-03</td>\n",
       "      <td>2020-08-03</td>\n",
       "      <td>7750.637207</td>\n",
       "      <td>POLYGON ((-13188248.679 4224512.550, -13188385...</td>\n",
       "    </tr>\n",
       "  </tbody>\n",
       "</table>\n",
       "</div>"
      ],
      "text/plain": [
       "  UNIT_ID              FIRE_NAME  ALARM_DATE   CONT_DATE     GIS_ACRES  \\\n",
       "0     CZU  CZU LIGHTNING COMPLEX  2020-08-16  2020-09-24  86553.460938   \n",
       "1     ORC              SILVERADO  2020-10-26  2020-11-02  12469.200195   \n",
       "2     ORC             BLUE RIDGE  2020-10-26  2020-11-02  13694.530273   \n",
       "3     ORC                   BOND  2020-12-03  2020-12-07   6681.101074   \n",
       "4     KRN             STAGECOACH  2020-08-03  2020-08-03   7750.637207   \n",
       "\n",
       "                                            geometry  \n",
       "0  MULTIPOLYGON (((-13594665.665 4447773.307, -13...  \n",
       "1  POLYGON ((-13103802.000 3995244.000, -13103693...  \n",
       "2  POLYGON ((-13106401.000 4020965.000, -13106362...  \n",
       "3  POLYGON ((-13095398.000 3994547.000, -13095325...  \n",
       "4  POLYGON ((-13188248.679 4224512.550, -13188385...  "
      ]
     },
     "execution_count": 69,
     "metadata": {},
     "output_type": "execute_result"
    }
   ],
   "source": [
    "use_cols = ['UNIT_ID', 'FIRE_NAME', 'ALARM_DATE', 'CONT_DATE', 'GIS_ACRES', 'geometry']\n",
    "cal_fire_data = cal_fire_data[use_cols]\n",
    "cal_fire_data.head()"
   ]
  },
  {
   "cell_type": "code",
   "execution_count": 70,
   "metadata": {},
   "outputs": [
    {
     "data": {
      "text/plain": [
       "count    1.290000e+02\n",
       "mean     5.816780e+04\n",
       "std      1.161609e+05\n",
       "min      5.062198e+03\n",
       "25%      8.822024e+03\n",
       "50%      2.131793e+04\n",
       "75%      5.162466e+04\n",
       "max      1.032699e+06\n",
       "Name: GIS_ACRES, dtype: float64"
      ]
     },
     "execution_count": 70,
     "metadata": {},
     "output_type": "execute_result"
    }
   ],
   "source": [
    "cal_fire_data.GIS_ACRES.describe()"
   ]
  },
  {
   "cell_type": "code",
   "execution_count": 75,
   "metadata": {},
   "outputs": [
    {
     "data": {
      "text/plain": [
       "UNIT_ID               object\n",
       "FIRE_NAME             object\n",
       "ALARM_DATE    datetime64[ns]\n",
       "CONT_DATE     datetime64[ns]\n",
       "GIS_ACRES            float64\n",
       "geometry            geometry\n",
       "duration               int64\n",
       "year                   int64\n",
       "month                  int64\n",
       "dtype: object"
      ]
     },
     "execution_count": 75,
     "metadata": {},
     "output_type": "execute_result"
    }
   ],
   "source": [
    "cal_fire_data.dtypes\n"
   ]
  },
  {
   "cell_type": "code",
   "execution_count": 72,
   "metadata": {},
   "outputs": [
    {
     "data": {
      "text/plain": [
       "UNIT_ID               object\n",
       "FIRE_NAME             object\n",
       "ALARM_DATE    datetime64[ns]\n",
       "CONT_DATE     datetime64[ns]\n",
       "GIS_ACRES            float64\n",
       "geometry            geometry\n",
       "duration               int64\n",
       "dtype: object"
      ]
     },
     "execution_count": 72,
     "metadata": {},
     "output_type": "execute_result"
    }
   ],
   "source": [
    "# Change the dtype of Alarm date and cont_date\n",
    "cal_fire_data['ALARM_DATE'] = pd.to_datetime(cal_fire_data['ALARM_DATE'])\n",
    "cal_fire_data['CONT_DATE'] = pd.to_datetime(cal_fire_data['CONT_DATE'])\n",
    "cal_fire_data['duration'] = cal_fire_data['CONT_DATE'].dt.to_period('D').astype(int) \\\n",
    "                            - cal_fire_data['ALARM_DATE'].dt.to_period('D').astype(int)\n",
    "cal_fire_data = cal_fire_data.dropna()\n",
    "cal_fire_data.dtypes"
   ]
  },
  {
   "cell_type": "code",
   "execution_count": 73,
   "metadata": {},
   "outputs": [],
   "source": [
    "# Compute the year column\n",
    "cal_fire_data['year'] = cal_fire_data['ALARM_DATE'].dt.year\n",
    "cal_fire_data = cal_fire_data.sort_values('ALARM_DATE', ascending=True)\n",
    "cal_fire_data['month'] = cal_fire_data['ALARM_DATE'].dt.month\n",
    "#cal_fire_data['month'] = cal_fire_data['month'].astype(int)"
   ]
  },
  {
   "cell_type": "code",
   "execution_count": 74,
   "metadata": {},
   "outputs": [
    {
     "data": {
      "text/html": [
       "<div>\n",
       "<style scoped>\n",
       "    .dataframe tbody tr th:only-of-type {\n",
       "        vertical-align: middle;\n",
       "    }\n",
       "\n",
       "    .dataframe tbody tr th {\n",
       "        vertical-align: top;\n",
       "    }\n",
       "\n",
       "    .dataframe thead th {\n",
       "        text-align: right;\n",
       "    }\n",
       "</style>\n",
       "<table border=\"1\" class=\"dataframe\">\n",
       "  <thead>\n",
       "    <tr style=\"text-align: right;\">\n",
       "      <th></th>\n",
       "      <th>UNIT_ID</th>\n",
       "      <th>FIRE_NAME</th>\n",
       "      <th>ALARM_DATE</th>\n",
       "      <th>CONT_DATE</th>\n",
       "      <th>GIS_ACRES</th>\n",
       "      <th>geometry</th>\n",
       "      <th>duration</th>\n",
       "      <th>year</th>\n",
       "      <th>month</th>\n",
       "    </tr>\n",
       "  </thead>\n",
       "  <tbody>\n",
       "    <tr>\n",
       "      <th>55</th>\n",
       "      <td>LPF</td>\n",
       "      <td>SHERPA</td>\n",
       "      <td>2016-06-15</td>\n",
       "      <td>2016-07-11</td>\n",
       "      <td>7465.751465</td>\n",
       "      <td>POLYGON ((-13363262.418 4092431.378, -13363256...</td>\n",
       "      <td>26</td>\n",
       "      <td>2016</td>\n",
       "      <td>6</td>\n",
       "    </tr>\n",
       "    <tr>\n",
       "      <th>42</th>\n",
       "      <td>MVU</td>\n",
       "      <td>BORDER 3</td>\n",
       "      <td>2016-06-19</td>\n",
       "      <td>2016-07-07</td>\n",
       "      <td>7606.026367</td>\n",
       "      <td>POLYGON ((-12970017.478 3847689.292, -12970023...</td>\n",
       "      <td>18</td>\n",
       "      <td>2016</td>\n",
       "      <td>6</td>\n",
       "    </tr>\n",
       "    <tr>\n",
       "      <th>48</th>\n",
       "      <td>CND</td>\n",
       "      <td>ERSKINE</td>\n",
       "      <td>2016-06-23</td>\n",
       "      <td>2016-06-30</td>\n",
       "      <td>48008.351562</td>\n",
       "      <td>POLYGON ((-13172105.402 4240567.780, -13172129...</td>\n",
       "      <td>7</td>\n",
       "      <td>2016</td>\n",
       "      <td>6</td>\n",
       "    </tr>\n",
       "    <tr>\n",
       "      <th>51</th>\n",
       "      <td>ENF</td>\n",
       "      <td>TRAILHEAD</td>\n",
       "      <td>2016-06-28</td>\n",
       "      <td>2016-11-08</td>\n",
       "      <td>5644.680176</td>\n",
       "      <td>POLYGON ((-13454936.939 4715077.788, -13454936...</td>\n",
       "      <td>133</td>\n",
       "      <td>2016</td>\n",
       "      <td>6</td>\n",
       "    </tr>\n",
       "    <tr>\n",
       "      <th>54</th>\n",
       "      <td>ANF</td>\n",
       "      <td>SAND</td>\n",
       "      <td>2016-07-22</td>\n",
       "      <td>2016-08-07</td>\n",
       "      <td>41382.859375</td>\n",
       "      <td>MULTIPOLYGON (((-13165545.608 4089924.627, -13...</td>\n",
       "      <td>16</td>\n",
       "      <td>2016</td>\n",
       "      <td>7</td>\n",
       "    </tr>\n",
       "    <tr>\n",
       "      <th>...</th>\n",
       "      <td>...</td>\n",
       "      <td>...</td>\n",
       "      <td>...</td>\n",
       "      <td>...</td>\n",
       "      <td>...</td>\n",
       "      <td>...</td>\n",
       "      <td>...</td>\n",
       "      <td>...</td>\n",
       "      <td>...</td>\n",
       "    </tr>\n",
       "    <tr>\n",
       "      <th>35</th>\n",
       "      <td>CCD</td>\n",
       "      <td>BACCARAT</td>\n",
       "      <td>2020-10-04</td>\n",
       "      <td>2020-10-11</td>\n",
       "      <td>10456.363281</td>\n",
       "      <td>MULTIPOLYGON (((-13354640.259 4826534.418, -13...</td>\n",
       "      <td>7</td>\n",
       "      <td>2020</td>\n",
       "      <td>10</td>\n",
       "    </tr>\n",
       "    <tr>\n",
       "      <th>2</th>\n",
       "      <td>ORC</td>\n",
       "      <td>BLUE RIDGE</td>\n",
       "      <td>2020-10-26</td>\n",
       "      <td>2020-11-02</td>\n",
       "      <td>13694.530273</td>\n",
       "      <td>POLYGON ((-13106401.000 4020965.000, -13106362...</td>\n",
       "      <td>7</td>\n",
       "      <td>2020</td>\n",
       "      <td>10</td>\n",
       "    </tr>\n",
       "    <tr>\n",
       "      <th>1</th>\n",
       "      <td>ORC</td>\n",
       "      <td>SILVERADO</td>\n",
       "      <td>2020-10-26</td>\n",
       "      <td>2020-11-02</td>\n",
       "      <td>12469.200195</td>\n",
       "      <td>POLYGON ((-13103802.000 3995244.000, -13103693...</td>\n",
       "      <td>7</td>\n",
       "      <td>2020</td>\n",
       "      <td>10</td>\n",
       "    </tr>\n",
       "    <tr>\n",
       "      <th>36</th>\n",
       "      <td>CND</td>\n",
       "      <td>MOUNTAIN VIEW</td>\n",
       "      <td>2020-11-17</td>\n",
       "      <td>2020-11-30</td>\n",
       "      <td>20374.488281</td>\n",
       "      <td>POLYGON ((-13296874.178 4651985.955, -13297108...</td>\n",
       "      <td>13</td>\n",
       "      <td>2020</td>\n",
       "      <td>11</td>\n",
       "    </tr>\n",
       "    <tr>\n",
       "      <th>3</th>\n",
       "      <td>ORC</td>\n",
       "      <td>BOND</td>\n",
       "      <td>2020-12-03</td>\n",
       "      <td>2020-12-07</td>\n",
       "      <td>6681.101074</td>\n",
       "      <td>POLYGON ((-13095398.000 3994547.000, -13095325...</td>\n",
       "      <td>4</td>\n",
       "      <td>2020</td>\n",
       "      <td>12</td>\n",
       "    </tr>\n",
       "  </tbody>\n",
       "</table>\n",
       "<p>122 rows × 9 columns</p>\n",
       "</div>"
      ],
      "text/plain": [
       "   UNIT_ID      FIRE_NAME ALARM_DATE  CONT_DATE     GIS_ACRES  \\\n",
       "55     LPF         SHERPA 2016-06-15 2016-07-11   7465.751465   \n",
       "42     MVU       BORDER 3 2016-06-19 2016-07-07   7606.026367   \n",
       "48     CND        ERSKINE 2016-06-23 2016-06-30  48008.351562   \n",
       "51     ENF      TRAILHEAD 2016-06-28 2016-11-08   5644.680176   \n",
       "54     ANF           SAND 2016-07-22 2016-08-07  41382.859375   \n",
       "..     ...            ...        ...        ...           ...   \n",
       "35     CCD       BACCARAT 2020-10-04 2020-10-11  10456.363281   \n",
       "2      ORC     BLUE RIDGE 2020-10-26 2020-11-02  13694.530273   \n",
       "1      ORC      SILVERADO 2020-10-26 2020-11-02  12469.200195   \n",
       "36     CND  MOUNTAIN VIEW 2020-11-17 2020-11-30  20374.488281   \n",
       "3      ORC           BOND 2020-12-03 2020-12-07   6681.101074   \n",
       "\n",
       "                                             geometry  duration  year  month  \n",
       "55  POLYGON ((-13363262.418 4092431.378, -13363256...        26  2016      6  \n",
       "42  POLYGON ((-12970017.478 3847689.292, -12970023...        18  2016      6  \n",
       "48  POLYGON ((-13172105.402 4240567.780, -13172129...         7  2016      6  \n",
       "51  POLYGON ((-13454936.939 4715077.788, -13454936...       133  2016      6  \n",
       "54  MULTIPOLYGON (((-13165545.608 4089924.627, -13...        16  2016      7  \n",
       "..                                                ...       ...   ...    ...  \n",
       "35  MULTIPOLYGON (((-13354640.259 4826534.418, -13...         7  2020     10  \n",
       "2   POLYGON ((-13106401.000 4020965.000, -13106362...         7  2020     10  \n",
       "1   POLYGON ((-13103802.000 3995244.000, -13103693...         7  2020     10  \n",
       "36  POLYGON ((-13296874.178 4651985.955, -13297108...        13  2020     11  \n",
       "3   POLYGON ((-13095398.000 3994547.000, -13095325...         4  2020     12  \n",
       "\n",
       "[122 rows x 9 columns]"
      ]
     },
     "execution_count": 74,
     "metadata": {},
     "output_type": "execute_result"
    }
   ],
   "source": [
    "cal_fire_data"
   ]
  },
  {
   "cell_type": "code",
   "execution_count": 76,
   "metadata": {},
   "outputs": [
    {
     "data": {
      "application/vnd.plotly.v1+json": {
       "config": {
        "plotlyServerURL": "https://plot.ly"
       },
       "data": [
        {
         "hovertemplate": "<b>%{hovertext}</b><br><br>UNIT_ID=LPF<br>ALARM_DATE=%{x}<br>GIS_ACRES=%{y}<br>duration=%{marker.size}<extra></extra>",
         "hovertext": [
          "SHERPA",
          "REY",
          "WHITTIER",
          "DOLAN"
         ],
         "legendgroup": "LPF",
         "marker": {
          "color": "#636efa",
          "size": [
           26,
           28,
           166,
           135
          ],
          "sizemode": "area",
          "sizeref": 0.0664,
          "symbol": "circle"
         },
         "mode": "markers",
         "name": "LPF",
         "orientation": "v",
         "showlegend": true,
         "type": "scatter",
         "x": [
          "2016-06-15T00:00:00",
          "2016-08-18T00:00:00",
          "2017-07-08T00:00:00",
          "2020-08-18T00:00:00"
         ],
         "xaxis": "x",
         "y": [
          7465.75146484,
          32580.43554688,
          18412.40429688,
          124527.3125
         ],
         "yaxis": "y"
        },
        {
         "hovertemplate": "<b>%{hovertext}</b><br><br>UNIT_ID=MVU<br>ALARM_DATE=%{x}<br>GIS_ACRES=%{y}<br>duration=%{marker.size}<extra></extra>",
         "hovertext": [
          "BORDER 3"
         ],
         "legendgroup": "MVU",
         "marker": {
          "color": "#EF553B",
          "size": [
           18
          ],
          "sizemode": "area",
          "sizeref": 0.0664,
          "symbol": "circle"
         },
         "mode": "markers",
         "name": "MVU",
         "orientation": "v",
         "showlegend": true,
         "type": "scatter",
         "x": [
          "2016-06-19T00:00:00"
         ],
         "xaxis": "x",
         "y": [
          7606.02636719
         ],
         "yaxis": "y"
        },
        {
         "hovertemplate": "<b>%{hovertext}</b><br><br>UNIT_ID=CND<br>ALARM_DATE=%{x}<br>GIS_ACRES=%{y}<br>duration=%{marker.size}<extra></extra>",
         "hovertext": [
          "ERSKINE",
          "SLINKARD",
          "MOUNTAIN VIEW"
         ],
         "legendgroup": "CND",
         "marker": {
          "color": "#00cc96",
          "size": [
           7,
           23,
           13
          ],
          "sizemode": "area",
          "sizeref": 0.0664,
          "symbol": "circle"
         },
         "mode": "markers",
         "name": "CND",
         "orientation": "v",
         "showlegend": true,
         "type": "scatter",
         "x": [
          "2016-06-23T00:00:00",
          "2017-08-29T00:00:00",
          "2020-11-17T00:00:00"
         ],
         "xaxis": "x",
         "y": [
          48008.3515625,
          8923.49511719,
          20374.48828125
         ],
         "yaxis": "y"
        },
        {
         "hovertemplate": "<b>%{hovertext}</b><br><br>UNIT_ID=ENF<br>ALARM_DATE=%{x}<br>GIS_ACRES=%{y}<br>duration=%{marker.size}<extra></extra>",
         "hovertext": [
          "TRAILHEAD"
         ],
         "legendgroup": "ENF",
         "marker": {
          "color": "#ab63fa",
          "size": [
           133
          ],
          "sizemode": "area",
          "sizeref": 0.0664,
          "symbol": "circle"
         },
         "mode": "markers",
         "name": "ENF",
         "orientation": "v",
         "showlegend": true,
         "type": "scatter",
         "x": [
          "2016-06-28T00:00:00"
         ],
         "xaxis": "x",
         "y": [
          5644.68017578
         ],
         "yaxis": "y"
        },
        {
         "hovertemplate": "<b>%{hovertext}</b><br><br>UNIT_ID=ANF<br>ALARM_DATE=%{x}<br>GIS_ACRES=%{y}<br>duration=%{marker.size}<extra></extra>",
         "hovertext": [
          "SAND",
          "LAKE",
          "BOBCAT"
         ],
         "legendgroup": "ANF",
         "marker": {
          "color": "#FFA15A",
          "size": [
           16,
           18,
           43
          ],
          "sizemode": "area",
          "sizeref": 0.0664,
          "symbol": "circle"
         },
         "mode": "markers",
         "name": "ANF",
         "orientation": "v",
         "showlegend": true,
         "type": "scatter",
         "x": [
          "2016-07-22T00:00:00",
          "2020-08-12T00:00:00",
          "2020-09-06T00:00:00"
         ],
         "xaxis": "x",
         "y": [
          41382.859375,
          30999.38671875,
          115997.9765625
         ],
         "yaxis": "y"
        },
        {
         "hovertemplate": "<b>%{hovertext}</b><br><br>UNIT_ID=BEU<br>ALARM_DATE=%{x}<br>GIS_ACRES=%{y}<br>duration=%{marker.size}<extra></extra>",
         "hovertext": [
          "SOBERANES",
          "RIVER",
          "CARMEL"
         ],
         "legendgroup": "BEU",
         "marker": {
          "color": "#19d3f3",
          "size": [
           83,
           19,
           19
          ],
          "sizemode": "area",
          "sizeref": 0.0664,
          "symbol": "circle"
         },
         "mode": "markers",
         "name": "BEU",
         "orientation": "v",
         "showlegend": true,
         "type": "scatter",
         "x": [
          "2016-07-22T00:00:00",
          "2020-08-16T00:00:00",
          "2020-08-18T00:00:00"
         ],
         "xaxis": "x",
         "y": [
          132104.28125,
          50213.8203125,
          6996.94189453
         ],
         "yaxis": "y"
        },
        {
         "hovertemplate": "<b>%{hovertext}</b><br><br>UNIT_ID=LNU<br>ALARM_DATE=%{x}<br>GIS_ACRES=%{y}<br>duration=%{marker.size}<extra></extra>",
         "hovertext": [
          "COLD",
          "POCKET",
          "TUBBS",
          "NUNS",
          "ATLAS",
          "REDWOOD VALLEY",
          "PAWNEE",
          "COUNTY",
          "RANCH",
          "RIVER",
          "KINCADE",
          "WALLBRIDGE",
          "HENNESSEY",
          "GLASS"
         ],
         "legendgroup": "LNU",
         "marker": {
          "color": "#FF6692",
          "size": [
           7,
           24,
           24,
           23,
           24,
           17,
           12,
           11,
           54,
           14,
           18,
           16,
           30,
           23
          ],
          "sizemode": "area",
          "sizeref": 0.0664,
          "symbol": "circle"
         },
         "mode": "markers",
         "name": "LNU",
         "orientation": "v",
         "showlegend": true,
         "type": "scatter",
         "x": [
          "2016-08-02T00:00:00",
          "2017-10-08T00:00:00",
          "2017-10-08T00:00:00",
          "2017-10-08T00:00:00",
          "2017-10-08T00:00:00",
          "2017-10-08T00:00:00",
          "2018-06-23T00:00:00",
          "2018-06-30T00:00:00",
          "2018-07-27T00:00:00",
          "2018-07-27T00:00:00",
          "2019-10-23T00:00:00",
          "2020-08-17T00:00:00",
          "2020-08-17T00:00:00",
          "2020-09-27T00:00:00"
         ],
         "xaxis": "x",
         "y": [
          5730.07470703,
          17359.328125,
          36701.984375,
          55798.19140625,
          51624.65625,
          36522.9453125,
          15196,
          89831.1484375,
          410202.46875,
          48920.390625,
          77762.140625,
          55208.890625,
          305351.59375,
          67484.34375
         ],
         "yaxis": "y"
        },
        {
         "hovertemplate": "<b>%{hovertext}</b><br><br>UNIT_ID=FKU<br>ALARM_DATE=%{x}<br>GIS_ACRES=%{y}<br>duration=%{marker.size}<extra></extra>",
         "hovertext": [
          "MINERAL",
          "ELM",
          "GARZA",
          "MINERAL"
         ],
         "legendgroup": "FKU",
         "marker": {
          "color": "#B6E880",
          "size": [
           11,
           5,
           16,
           13
          ],
          "sizemode": "area",
          "sizeref": 0.0664,
          "symbol": "circle"
         },
         "mode": "markers",
         "name": "FKU",
         "orientation": "v",
         "showlegend": true,
         "type": "scatter",
         "x": [
          "2016-08-08T00:00:00",
          "2017-05-18T00:00:00",
          "2017-07-09T00:00:00",
          "2020-07-13T00:00:00"
         ],
         "xaxis": "x",
         "y": [
          6790.29296875,
          11146.75488281,
          48886.6640625,
          29666.9609375
         ],
         "yaxis": "y"
        },
        {
         "hovertemplate": "<b>%{hovertext}</b><br><br>UNIT_ID=SLU<br>ALARM_DATE=%{x}<br>GIS_ACRES=%{y}<br>duration=%{marker.size}<extra></extra>",
         "hovertext": [
          "CHIMNEY",
          "ALAMO"
         ],
         "legendgroup": "SLU",
         "marker": {
          "color": "#FF97FF",
          "size": [
           27,
           14
          ],
          "sizemode": "area",
          "sizeref": 0.0664,
          "symbol": "circle"
         },
         "mode": "markers",
         "name": "SLU",
         "orientation": "v",
         "showlegend": true,
         "type": "scatter",
         "x": [
          "2016-08-13T00:00:00",
          "2017-07-06T00:00:00"
         ],
         "xaxis": "x",
         "y": [
          46233.91796875,
          28834.171875
         ],
         "yaxis": "y"
        },
        {
         "hovertemplate": "<b>%{hovertext}</b><br><br>UNIT_ID=SQF<br>ALARM_DATE=%{x}<br>GIS_ACRES=%{y}<br>duration=%{marker.size}<extra></extra>",
         "hovertext": [
          "CEDAR",
          "SCHAEFFER",
          "PIER",
          "LION",
          "CASTLE"
         ],
         "legendgroup": "SQF",
         "marker": {
          "color": "#FECB52",
          "size": [
           0,
           144,
           1,
           38,
           138
          ],
          "sizemode": "area",
          "sizeref": 0.0664,
          "symbol": "circle"
         },
         "mode": "markers",
         "name": "SQF",
         "orientation": "v",
         "showlegend": true,
         "type": "scatter",
         "x": [
          "2016-08-16T00:00:00",
          "2017-06-24T00:00:00",
          "2017-08-29T00:00:00",
          "2017-09-25T00:00:00",
          "2020-08-19T00:00:00"
         ],
         "xaxis": "x",
         "y": [
          29100.55859375,
          15833.21191406,
          36619.42578125,
          18913.57617188,
          170647.84375
         ],
         "yaxis": "y"
        },
        {
         "hovertemplate": "<b>%{hovertext}</b><br><br>UNIT_ID=BDF<br>ALARM_DATE=%{x}<br>GIS_ACRES=%{y}<br>duration=%{marker.size}<extra></extra>",
         "hovertext": [
          "BLUE CUT"
         ],
         "legendgroup": "BDF",
         "marker": {
          "color": "#636efa",
          "size": [
           10
          ],
          "sizemode": "area",
          "sizeref": 0.0664,
          "symbol": "circle"
         },
         "mode": "markers",
         "name": "BDF",
         "orientation": "v",
         "showlegend": true,
         "type": "scatter",
         "x": [
          "2016-08-16T00:00:00"
         ],
         "xaxis": "x",
         "y": [
          36266.6953125
         ],
         "yaxis": "y"
        },
        {
         "hovertemplate": "<b>%{hovertext}</b><br><br>UNIT_ID=INF<br>ALARM_DATE=%{x}<br>GIS_ACRES=%{y}<br>duration=%{marker.size}<extra></extra>",
         "hovertext": [
          "OWENS RIVER",
          "LIONS",
          "SPRINGS",
          "TABOOSE"
         ],
         "legendgroup": "INF",
         "marker": {
          "color": "#EF553B",
          "size": [
           62,
           162,
           145,
           80
          ],
          "sizemode": "area",
          "sizeref": 0.0664,
          "symbol": "circle"
         },
         "mode": "markers",
         "name": "INF",
         "orientation": "v",
         "showlegend": true,
         "type": "scatter",
         "x": [
          "2016-09-17T00:00:00",
          "2018-06-19T00:00:00",
          "2019-07-26T00:00:00",
          "2019-09-04T00:00:00"
         ],
         "xaxis": "x",
         "y": [
          5461.39208984,
          13462.7421875,
          6614.63427734,
          10267.63183594
         ],
         "yaxis": "y"
        },
        {
         "hovertemplate": "<b>%{hovertext}</b><br><br>UNIT_ID=RRU<br>ALARM_DATE=%{x}<br>GIS_ACRES=%{y}<br>duration=%{marker.size}<extra></extra>",
         "hovertext": [
          "MANZANITA",
          "APPLE",
          "SNOW"
         ],
         "legendgroup": "RRU",
         "marker": {
          "color": "#00cc96",
          "size": [
           4,
           9,
           7
          ],
          "sizemode": "area",
          "sizeref": 0.0664,
          "symbol": "circle"
         },
         "mode": "markers",
         "name": "RRU",
         "orientation": "v",
         "showlegend": true,
         "type": "scatter",
         "x": [
          "2017-06-26T00:00:00",
          "2020-07-31T00:00:00",
          "2020-09-17T00:00:00"
         ],
         "xaxis": "x",
         "y": [
          6303.65869141,
          33209.30859375,
          6253.43701172
         ],
         "yaxis": "y"
        },
        {
         "hovertemplate": "<b>%{hovertext}</b><br><br>UNIT_ID=BTU<br>ALARM_DATE=%{x}<br>GIS_ACRES=%{y}<br>duration=%{marker.size}<extra></extra>",
         "hovertext": [
          "WALL",
          "CHEROKEE",
          "CAMP"
         ],
         "legendgroup": "BTU",
         "marker": {
          "color": "#ab63fa",
          "size": [
           27,
           28,
           18
          ],
          "sizemode": "area",
          "sizeref": 0.0664,
          "symbol": "circle"
         },
         "mode": "markers",
         "name": "BTU",
         "orientation": "v",
         "showlegend": true,
         "type": "scatter",
         "x": [
          "2017-07-07T00:00:00",
          "2017-10-08T00:00:00",
          "2018-11-08T00:00:00"
         ],
         "xaxis": "x",
         "y": [
          6028.48974609,
          8415.80273438,
          153335.5625
         ],
         "yaxis": "y"
        },
        {
         "hovertemplate": "<b>%{hovertext}</b><br><br>UNIT_ID=NOD<br>ALARM_DATE=%{x}<br>GIS_ACRES=%{y}<br>duration=%{marker.size}<extra></extra>",
         "hovertext": [
          "LONG VALLEY",
          "MUD",
          "R-4 PARSNIP",
          "W-5 COLD SPRINGS"
         ],
         "legendgroup": "NOD",
         "marker": {
          "color": "#FFA15A",
          "size": [
           16,
           13,
           16,
           26
          ],
          "sizemode": "area",
          "sizeref": 0.0664,
          "symbol": "circle"
         },
         "mode": "markers",
         "name": "NOD",
         "orientation": "v",
         "showlegend": true,
         "type": "scatter",
         "x": [
          "2017-07-11T00:00:00",
          "2017-08-29T00:00:00",
          "2017-08-30T00:00:00",
          "2020-08-18T00:00:00"
         ],
         "xaxis": "x",
         "y": [
          83581.4140625,
          6036.06494141,
          18601.98046875,
          84817.2734375
         ],
         "yaxis": "y"
        },
        {
         "hovertemplate": "<b>%{hovertext}</b><br><br>UNIT_ID=MMU<br>ALARM_DATE=%{x}<br>GIS_ACRES=%{y}<br>duration=%{marker.size}<extra></extra>",
         "hovertext": [
          "DETWILER",
          "BRICEBURG"
         ],
         "legendgroup": "MMU",
         "marker": {
          "color": "#19d3f3",
          "size": [
           46,
           14
          ],
          "sizemode": "area",
          "sizeref": 0.0664,
          "symbol": "circle"
         },
         "mode": "markers",
         "name": "MMU",
         "orientation": "v",
         "showlegend": true,
         "type": "scatter",
         "x": [
          "2017-07-16T00:00:00",
          "2019-10-06T00:00:00"
         ],
         "xaxis": "x",
         "y": [
          81826.2734375,
          5508.35009766
         ],
         "yaxis": "y"
        },
        {
         "hovertemplate": "<b>%{hovertext}</b><br><br>UNIT_ID=MDF<br>ALARM_DATE=%{x}<br>GIS_ACRES=%{y}<br>duration=%{marker.size}<extra></extra>",
         "hovertext": [
          "COVE",
          "STEELE",
          "PARKER2",
          "STONE",
          "TUCKER",
          "LONE"
         ],
         "legendgroup": "MDF",
         "marker": {
          "color": "#FF6692",
          "size": [
           43,
           18,
           12,
           14,
           51,
           88
          ],
          "sizemode": "area",
          "sizeref": 0.0664,
          "symbol": "circle"
         },
         "mode": "markers",
         "name": "MDF",
         "orientation": "v",
         "showlegend": true,
         "type": "scatter",
         "x": [
          "2017-07-25T00:00:00",
          "2017-07-26T00:00:00",
          "2017-08-03T00:00:00",
          "2018-08-15T00:00:00",
          "2019-07-28T00:00:00",
          "2019-09-05T00:00:00"
         ],
         "xaxis": "x",
         "y": [
          30890.86132813,
          45704.01171875,
          7693.31933594,
          39579.4296875,
          14184.66113281,
          5737.15966797
         ],
         "yaxis": "y"
        },
        {
         "hovertemplate": "<b>%{hovertext}</b><br><br>UNIT_ID=YNP<br>ALARM_DATE=%{x}<br>GIS_ACRES=%{y}<br>duration=%{marker.size}<extra></extra>",
         "hovertext": [
          "EMPIRE",
          "SOUTH FORK",
          "BLUEJAY"
         ],
         "legendgroup": "YNP",
         "marker": {
          "color": "#B6E880",
          "size": [
           119,
           82,
           117
          ],
          "sizemode": "area",
          "sizeref": 0.0664,
          "symbol": "circle"
         },
         "mode": "markers",
         "name": "YNP",
         "orientation": "v",
         "showlegend": true,
         "type": "scatter",
         "x": [
          "2017-07-31T00:00:00",
          "2017-08-13T00:00:00",
          "2020-07-25T00:00:00"
         ],
         "xaxis": "x",
         "y": [
          8577.55175781,
          7560.07666016,
          6921.98730469
         ],
         "yaxis": "y"
        },
        {
         "hovertemplate": "<b>%{hovertext}</b><br><br>UNIT_ID=KNF<br>ALARM_DATE=%{x}<br>GIS_ACRES=%{y}<br>duration=%{marker.size}<extra></extra>",
         "hovertext": [
          "CEDAR",
          "WALLOW",
          "OAK",
          "SLATER"
         ],
         "legendgroup": "KNF",
         "marker": {
          "color": "#FF97FF",
          "size": [
           63,
           94,
           60,
           95
          ],
          "sizemode": "area",
          "sizeref": 0.0664,
          "symbol": "circle"
         },
         "mode": "markers",
         "name": "KNF",
         "orientation": "v",
         "showlegend": true,
         "type": "scatter",
         "x": [
          "2017-08-08T00:00:00",
          "2017-08-11T00:00:00",
          "2017-08-11T00:00:00",
          "2020-09-08T00:00:00"
         ],
         "xaxis": "x",
         "y": [
          9129.37695313,
          63785.0703125,
          91125.328125,
          157429.765625
         ],
         "yaxis": "y"
        },
        {
         "hovertemplate": "<b>%{hovertext}</b><br><br>UNIT_ID=RRS<br>ALARM_DATE=%{x}<br>GIS_ACRES=%{y}<br>duration=%{marker.size}<extra></extra>",
         "hovertext": [
          "ABNEY",
          "NATCHEZ"
         ],
         "legendgroup": "RRS",
         "marker": {
          "color": "#FECB52",
          "size": [
           153,
           60
          ],
          "sizemode": "area",
          "sizeref": 0.0664,
          "symbol": "circle"
         },
         "mode": "markers",
         "name": "RRS",
         "orientation": "v",
         "showlegend": true,
         "type": "scatter",
         "x": [
          "2017-08-10T00:00:00",
          "2018-10-19T00:00:00"
         ],
         "xaxis": "x",
         "y": [
          32893.26171875,
          38117.8515625
         ],
         "yaxis": "y"
        },
        {
         "hovertemplate": "<b>%{hovertext}</b><br><br>UNIT_ID=SRF<br>ALARM_DATE=%{x}<br>GIS_ACRES=%{y}<br>duration=%{marker.size}<extra></extra>",
         "hovertext": [
          "HAYPRESS",
          "RED SALMON COMPLEX"
         ],
         "legendgroup": "SRF",
         "marker": {
          "color": "#636efa",
          "size": [
           67,
           115
          ],
          "sizemode": "area",
          "sizeref": 0.0664,
          "symbol": "circle"
         },
         "mode": "markers",
         "name": "SRF",
         "orientation": "v",
         "showlegend": true,
         "type": "scatter",
         "x": [
          "2017-08-10T00:00:00",
          "2020-07-27T00:00:00"
         ],
         "xaxis": "x",
         "y": [
          21317.93164063,
          143836.328125
         ],
         "yaxis": "y"
        },
        {
         "hovertemplate": "<b>%{hovertext}</b><br><br>UNIT_ID=SNF<br>ALARM_DATE=%{x}<br>GIS_ACRES=%{y}<br>duration=%{marker.size}<extra></extra>",
         "hovertext": [
          "RAILROAD",
          "FERGUSON",
          "CREEK"
         ],
         "legendgroup": "SNF",
         "marker": {
          "color": "#EF553B",
          "size": [
           81,
           138,
           111
          ],
          "sizemode": "area",
          "sizeref": 0.0664,
          "symbol": "circle"
         },
         "mode": "markers",
         "name": "SNF",
         "orientation": "v",
         "showlegend": true,
         "type": "scatter",
         "x": [
          "2017-08-29T00:00:00",
          "2018-07-13T00:00:00",
          "2020-09-04T00:00:00"
         ],
         "xaxis": "x",
         "y": [
          12371.1484375,
          96900.0390625,
          379882.25
         ],
         "yaxis": "y"
        },
        {
         "hovertemplate": "<b>%{hovertext}</b><br><br>UNIT_ID=SHF<br>ALARM_DATE=%{x}<br>GIS_ACRES=%{y}<br>duration=%{marker.size}<extra></extra>",
         "hovertext": [
          "HELENA",
          "BUCK",
          "MOORE",
          "HIRZ",
          "SOUTH"
         ],
         "legendgroup": "SHF",
         "marker": {
          "color": "#00cc96",
          "size": [
           76,
           48,
           37,
           37,
           88
          ],
          "sizemode": "area",
          "sizeref": 0.0664,
          "symbol": "circle"
         },
         "mode": "markers",
         "name": "SHF",
         "orientation": "v",
         "showlegend": true,
         "type": "scatter",
         "x": [
          "2017-08-30T00:00:00",
          "2017-09-12T00:00:00",
          "2018-08-09T00:00:00",
          "2018-08-09T00:00:00",
          "2019-09-05T00:00:00"
         ],
         "xaxis": "x",
         "y": [
          18493.70703125,
          13357.28222656,
          5574.37939453,
          40608.43359375,
          5333.99072266
         ],
         "yaxis": "y"
        },
        {
         "hovertemplate": "<b>%{hovertext}</b><br><br>UNIT_ID=LDF<br>ALARM_DATE=%{x}<br>GIS_ACRES=%{y}<br>duration=%{marker.size}<extra></extra>",
         "hovertext": [
          "LA TUNA",
          "SADDLE RIDGE"
         ],
         "legendgroup": "LDF",
         "marker": {
          "color": "#ab63fa",
          "size": [
           7,
           21
          ],
          "sizemode": "area",
          "sizeref": 0.0664,
          "symbol": "circle"
         },
         "mode": "markers",
         "name": "LDF",
         "orientation": "v",
         "showlegend": true,
         "type": "scatter",
         "x": [
          "2017-09-01T00:00:00",
          "2019-10-10T00:00:00"
         ],
         "xaxis": "x",
         "y": [
          7051.35107422,
          8799.32519531
         ],
         "yaxis": "y"
        },
        {
         "hovertemplate": "<b>%{hovertext}</b><br><br>UNIT_ID=NEU<br>ALARM_DATE=%{x}<br>GIS_ACRES=%{y}<br>duration=%{marker.size}<extra></extra>",
         "hovertext": [
          "CASCADE"
         ],
         "legendgroup": "NEU",
         "marker": {
          "color": "#FFA15A",
          "size": [
           18
          ],
          "sizemode": "area",
          "sizeref": 0.0664,
          "symbol": "circle"
         },
         "mode": "markers",
         "name": "NEU",
         "orientation": "v",
         "showlegend": true,
         "type": "scatter",
         "x": [
          "2017-10-08T00:00:00"
         ],
         "xaxis": "x",
         "y": [
          16140.79882813
         ],
         "yaxis": "y"
        },
        {
         "hovertemplate": "<b>%{hovertext}</b><br><br>UNIT_ID=ORC<br>ALARM_DATE=%{x}<br>GIS_ACRES=%{y}<br>duration=%{marker.size}<extra></extra>",
         "hovertext": [
          "CANYON II",
          "BLUE RIDGE",
          "SILVERADO",
          "BOND"
         ],
         "legendgroup": "ORC",
         "marker": {
          "color": "#19d3f3",
          "size": [
           8,
           7,
           7,
           4
          ],
          "sizemode": "area",
          "sizeref": 0.0664,
          "symbol": "circle"
         },
         "mode": "markers",
         "name": "ORC",
         "orientation": "v",
         "showlegend": true,
         "type": "scatter",
         "x": [
          "2017-10-09T00:00:00",
          "2020-10-26T00:00:00",
          "2020-10-26T00:00:00",
          "2020-12-03T00:00:00"
         ],
         "xaxis": "x",
         "y": [
          9198.02832031,
          13694.53027344,
          12469.20019531,
          6681.10107422
         ],
         "yaxis": "y"
        },
        {
         "hovertemplate": "<b>%{hovertext}</b><br><br>UNIT_ID=VNC<br>ALARM_DATE=%{x}<br>GIS_ACRES=%{y}<br>duration=%{marker.size}<extra></extra>",
         "hovertext": [
          "THOMAS",
          "MARIA"
         ],
         "legendgroup": "VNC",
         "marker": {
          "color": "#FF6692",
          "size": [
           39,
           5
          ],
          "sizemode": "area",
          "sizeref": 0.0664,
          "symbol": "circle"
         },
         "mode": "markers",
         "name": "VNC",
         "orientation": "v",
         "showlegend": true,
         "type": "scatter",
         "x": [
          "2017-12-04T00:00:00",
          "2019-10-31T00:00:00"
         ],
         "xaxis": "x",
         "y": [
          281790.875,
          10042.45898438
         ],
         "yaxis": "y"
        },
        {
         "hovertemplate": "<b>%{hovertext}</b><br><br>UNIT_ID=LAC<br>ALARM_DATE=%{x}<br>GIS_ACRES=%{y}<br>duration=%{marker.size}<extra></extra>",
         "hovertext": [
          "CREEK",
          "RYE",
          "WOOLSEY"
         ],
         "legendgroup": "LAC",
         "marker": {
          "color": "#B6E880",
          "size": [
           0,
           8,
           0
          ],
          "sizemode": "area",
          "sizeref": 0.0664,
          "symbol": "circle"
         },
         "mode": "markers",
         "name": "LAC",
         "orientation": "v",
         "showlegend": true,
         "type": "scatter",
         "x": [
          "2017-12-05T00:00:00",
          "2017-12-05T00:00:00",
          "2018-11-08T00:00:00"
         ],
         "xaxis": "x",
         "y": [
          15619.14648438,
          6047.71875,
          96949
         ],
         "yaxis": "y"
        },
        {
         "hovertemplate": "<b>%{hovertext}</b><br><br>UNIT_ID=TCU<br>ALARM_DATE=%{x}<br>GIS_ACRES=%{y}<br>duration=%{marker.size}<extra></extra>",
         "hovertext": [
          "WAVERLY"
         ],
         "legendgroup": "TCU",
         "marker": {
          "color": "#FF97FF",
          "size": [
           41
          ],
          "sizemode": "area",
          "sizeref": 0.0664,
          "symbol": "circle"
         },
         "mode": "markers",
         "name": "TCU",
         "orientation": "v",
         "showlegend": true,
         "type": "scatter",
         "x": [
          "2018-06-29T00:00:00"
         ],
         "xaxis": "x",
         "y": [
          11759.61816406
         ],
         "yaxis": "y"
        },
        {
         "hovertemplate": "<b>%{hovertext}</b><br><br>UNIT_ID=SKU<br>ALARM_DATE=%{x}<br>GIS_ACRES=%{y}<br>duration=%{marker.size}<extra></extra>",
         "hovertext": [
          "KLAMATHON"
         ],
         "legendgroup": "SKU",
         "marker": {
          "color": "#FECB52",
          "size": [
           16
          ],
          "sizemode": "area",
          "sizeref": 0.0664,
          "symbol": "circle"
         },
         "mode": "markers",
         "name": "SKU",
         "orientation": "v",
         "showlegend": true,
         "type": "scatter",
         "x": [
          "2018-07-05T00:00:00"
         ],
         "xaxis": "x",
         "y": [
          38008.7890625
         ],
         "yaxis": "y"
        },
        {
         "hovertemplate": "<b>%{hovertext}</b><br><br>UNIT_ID=SHU<br>ALARM_DATE=%{x}<br>GIS_ACRES=%{y}<br>duration=%{marker.size}<extra></extra>",
         "hovertext": [
          "CARR",
          "ZOGG"
         ],
         "legendgroup": "SHU",
         "marker": {
          "color": "#636efa",
          "size": [
           40,
           16
          ],
          "sizemode": "area",
          "sizeref": 0.0664,
          "symbol": "circle"
         },
         "mode": "markers",
         "name": "SHU",
         "orientation": "v",
         "showlegend": true,
         "type": "scatter",
         "x": [
          "2018-07-23T00:00:00",
          "2020-09-27T00:00:00"
         ],
         "xaxis": "x",
         "y": [
          229651.40625,
          56338.05078125
         ],
         "yaxis": "y"
        },
        {
         "hovertemplate": "<b>%{hovertext}</b><br><br>UNIT_ID=LNF<br>ALARM_DATE=%{x}<br>GIS_ACRES=%{y}<br>duration=%{marker.size}<extra></extra>",
         "hovertext": [
          "WHALEBACK"
         ],
         "legendgroup": "LNF",
         "marker": {
          "color": "#EF553B",
          "size": [
           1
          ],
          "sizemode": "area",
          "sizeref": 0.0664,
          "symbol": "circle"
         },
         "mode": "markers",
         "name": "LNF",
         "orientation": "v",
         "showlegend": true,
         "type": "scatter",
         "x": [
          "2018-08-05T00:00:00"
         ],
         "xaxis": "x",
         "y": [
          18701.8984375
         ],
         "yaxis": "y"
        },
        {
         "hovertemplate": "<b>%{hovertext}</b><br><br>UNIT_ID=CNF<br>ALARM_DATE=%{x}<br>GIS_ACRES=%{y}<br>duration=%{marker.size}<extra></extra>",
         "hovertext": [
          "HOLY",
          "VALLEY"
         ],
         "legendgroup": "CNF",
         "marker": {
          "color": "#00cc96",
          "size": [
           72,
           19
          ],
          "sizemode": "area",
          "sizeref": 0.0664,
          "symbol": "circle"
         },
         "mode": "markers",
         "name": "CNF",
         "orientation": "v",
         "showlegend": true,
         "type": "scatter",
         "x": [
          "2018-08-06T00:00:00",
          "2020-09-05T00:00:00"
         ],
         "xaxis": "x",
         "y": [
          23025,
          16389.52929688
         ],
         "yaxis": "y"
        },
        {
         "hovertemplate": "<b>%{hovertext}</b><br><br>UNIT_ID=HTF<br>ALARM_DATE=%{x}<br>GIS_ACRES=%{y}<br>duration=%{marker.size}<extra></extra>",
         "hovertext": [
          "BOOT",
          "SLINK"
         ],
         "legendgroup": "HTF",
         "marker": {
          "color": "#ab63fa",
          "size": [
           3,
           76
          ],
          "sizemode": "area",
          "sizeref": 0.0664,
          "symbol": "circle"
         },
         "mode": "markers",
         "name": "HTF",
         "orientation": "v",
         "showlegend": true,
         "type": "scatter",
         "x": [
          "2018-09-14T00:00:00",
          "2020-08-29T00:00:00"
         ],
         "xaxis": "x",
         "y": [
          6972.25195313,
          26751.67773438
         ],
         "yaxis": "y"
        },
        {
         "hovertemplate": "<b>%{hovertext}</b><br><br>UNIT_ID=PNF<br>ALARM_DATE=%{x}<br>GIS_ACRES=%{y}<br>duration=%{marker.size}<extra></extra>",
         "hovertext": [
          "WALKER",
          "SHEEP",
          "NORTH COMPLEX"
         ],
         "legendgroup": "PNF",
         "marker": {
          "color": "#FFA15A",
          "size": [
           133,
           21,
           108
          ],
          "sizemode": "area",
          "sizeref": 0.0664,
          "symbol": "circle"
         },
         "mode": "markers",
         "name": "PNF",
         "orientation": "v",
         "showlegend": true,
         "type": "scatter",
         "x": [
          "2019-09-04T00:00:00",
          "2020-08-17T00:00:00",
          "2020-08-17T00:00:00"
         ],
         "xaxis": "x",
         "y": [
          54614.90234375,
          29541.12109375,
          318776.6875
         ],
         "yaxis": "y"
        },
        {
         "hovertemplate": "<b>%{hovertext}</b><br><br>UNIT_ID=TGU<br>ALARM_DATE=%{x}<br>GIS_ACRES=%{y}<br>duration=%{marker.size}<extra></extra>",
         "hovertext": [
          "RED BANK"
         ],
         "legendgroup": "TGU",
         "marker": {
          "color": "#19d3f3",
          "size": [
           10
          ],
          "sizemode": "area",
          "sizeref": 0.0664,
          "symbol": "circle"
         },
         "mode": "markers",
         "name": "TGU",
         "orientation": "v",
         "showlegend": true,
         "type": "scatter",
         "x": [
          "2019-09-05T00:00:00"
         ],
         "xaxis": "x",
         "y": [
          8822.02441406
         ],
         "yaxis": "y"
        },
        {
         "hovertemplate": "<b>%{hovertext}</b><br><br>UNIT_ID=AEU<br>ALARM_DATE=%{x}<br>GIS_ACRES=%{y}<br>duration=%{marker.size}<extra></extra>",
         "hovertext": [
          "GRANT FIRE"
         ],
         "legendgroup": "AEU",
         "marker": {
          "color": "#FF6692",
          "size": [
           0
          ],
          "sizemode": "area",
          "sizeref": 0.0664,
          "symbol": "circle"
         },
         "mode": "markers",
         "name": "AEU",
         "orientation": "v",
         "showlegend": true,
         "type": "scatter",
         "x": [
          "2020-06-12T00:00:00"
         ],
         "xaxis": "x",
         "y": [
          5062.19824219
         ],
         "yaxis": "y"
        },
        {
         "hovertemplate": "<b>%{hovertext}</b><br><br>UNIT_ID=SCU<br>ALARM_DATE=%{x}<br>GIS_ACRES=%{y}<br>duration=%{marker.size}<extra></extra>",
         "hovertext": [
          "CREWS",
          "SCU COMPLEX"
         ],
         "legendgroup": "SCU",
         "marker": {
          "color": "#B6E880",
          "size": [
           10,
           26
          ],
          "sizemode": "area",
          "sizeref": 0.0664,
          "symbol": "circle"
         },
         "mode": "markers",
         "name": "SCU",
         "orientation": "v",
         "showlegend": true,
         "type": "scatter",
         "x": [
          "2020-07-05T00:00:00",
          "2020-08-16T00:00:00"
         ],
         "xaxis": "x",
         "y": [
          5513,
          396399
         ],
         "yaxis": "y"
        },
        {
         "hovertemplate": "<b>%{hovertext}</b><br><br>UNIT_ID=LMU<br>ALARM_DATE=%{x}<br>GIS_ACRES=%{y}<br>duration=%{marker.size}<extra></extra>",
         "hovertext": [
          "HOG",
          "GOLD"
         ],
         "legendgroup": "LMU",
         "marker": {
          "color": "#FF97FF",
          "size": [
           41,
           101
          ],
          "sizemode": "area",
          "sizeref": 0.0664,
          "symbol": "circle"
         },
         "mode": "markers",
         "name": "LMU",
         "orientation": "v",
         "showlegend": true,
         "type": "scatter",
         "x": [
          "2020-07-18T00:00:00",
          "2020-07-20T00:00:00"
         ],
         "xaxis": "x",
         "y": [
          9566.35546875,
          22652.55859375
         ],
         "yaxis": "y"
        },
        {
         "hovertemplate": "<b>%{hovertext}</b><br><br>UNIT_ID=BNP<br>ALARM_DATE=%{x}<br>GIS_ACRES=%{y}<br>duration=%{marker.size}<extra></extra>",
         "hovertext": [
          "CALDWELL"
         ],
         "legendgroup": "BNP",
         "marker": {
          "color": "#FECB52",
          "size": [
           41
          ],
          "sizemode": "area",
          "sizeref": 0.0664,
          "symbol": "circle"
         },
         "mode": "markers",
         "name": "BNP",
         "orientation": "v",
         "showlegend": true,
         "type": "scatter",
         "x": [
          "2020-07-22T00:00:00"
         ],
         "xaxis": "x",
         "y": [
          81224.3671875
         ],
         "yaxis": "y"
        },
        {
         "hovertemplate": "<b>%{hovertext}</b><br><br>UNIT_ID=CDD<br>ALARM_DATE=%{x}<br>GIS_ACRES=%{y}<br>duration=%{marker.size}<extra></extra>",
         "hovertext": [
          "NADEAU"
         ],
         "legendgroup": "CDD",
         "marker": {
          "color": "#636efa",
          "size": [
           6
          ],
          "sizemode": "area",
          "sizeref": 0.0664,
          "symbol": "circle"
         },
         "mode": "markers",
         "name": "CDD",
         "orientation": "v",
         "showlegend": true,
         "type": "scatter",
         "x": [
          "2020-07-29T00:00:00"
         ],
         "xaxis": "x",
         "y": [
          9150.36816406
         ],
         "yaxis": "y"
        },
        {
         "hovertemplate": "<b>%{hovertext}</b><br><br>UNIT_ID=CCD<br>ALARM_DATE=%{x}<br>GIS_ACRES=%{y}<br>duration=%{marker.size}<extra></extra>",
         "hovertext": [
          "NORTH",
          "BACCARAT"
         ],
         "legendgroup": "CCD",
         "marker": {
          "color": "#EF553B",
          "size": [
           8,
           7
          ],
          "sizemode": "area",
          "sizeref": 0.0664,
          "symbol": "circle"
         },
         "mode": "markers",
         "name": "CCD",
         "orientation": "v",
         "showlegend": true,
         "type": "scatter",
         "x": [
          "2020-08-02T00:00:00",
          "2020-10-04T00:00:00"
         ],
         "xaxis": "x",
         "y": [
          6882.26708984,
          10456.36328125
         ],
         "yaxis": "y"
        },
        {
         "hovertemplate": "<b>%{hovertext}</b><br><br>UNIT_ID=KRN<br>ALARM_DATE=%{x}<br>GIS_ACRES=%{y}<br>duration=%{marker.size}<extra></extra>",
         "hovertext": [
          "STAGECOACH"
         ],
         "legendgroup": "KRN",
         "marker": {
          "color": "#00cc96",
          "size": [
           0
          ],
          "sizemode": "area",
          "sizeref": 0.0664,
          "symbol": "circle"
         },
         "mode": "markers",
         "name": "KRN",
         "orientation": "v",
         "showlegend": true,
         "type": "scatter",
         "x": [
          "2020-08-03T00:00:00"
         ],
         "xaxis": "x",
         "y": [
          7750.63720703
         ],
         "yaxis": "y"
        },
        {
         "hovertemplate": "<b>%{hovertext}</b><br><br>UNIT_ID=TNF<br>ALARM_DATE=%{x}<br>GIS_ACRES=%{y}<br>duration=%{marker.size}<extra></extra>",
         "hovertext": [
          "LOYALTON"
         ],
         "legendgroup": "TNF",
         "marker": {
          "color": "#ab63fa",
          "size": [
           13
          ],
          "sizemode": "area",
          "sizeref": 0.0664,
          "symbol": "circle"
         },
         "mode": "markers",
         "name": "TNF",
         "orientation": "v",
         "showlegend": true,
         "type": "scatter",
         "x": [
          "2020-08-14T00:00:00"
         ],
         "xaxis": "x",
         "y": [
          46720.8828125
         ],
         "yaxis": "y"
        },
        {
         "hovertemplate": "<b>%{hovertext}</b><br><br>UNIT_ID=MNP<br>ALARM_DATE=%{x}<br>GIS_ACRES=%{y}<br>duration=%{marker.size}<extra></extra>",
         "hovertext": [
          "DOME"
         ],
         "legendgroup": "MNP",
         "marker": {
          "color": "#FFA15A",
          "size": [
           28
          ],
          "sizemode": "area",
          "sizeref": 0.0664,
          "symbol": "circle"
         },
         "mode": "markers",
         "name": "MNP",
         "orientation": "v",
         "showlegend": true,
         "type": "scatter",
         "x": [
          "2020-08-15T00:00:00"
         ],
         "xaxis": "x",
         "y": [
          44211.0859375
         ],
         "yaxis": "y"
        },
        {
         "hovertemplate": "<b>%{hovertext}</b><br><br>UNIT_ID=CZU<br>ALARM_DATE=%{x}<br>GIS_ACRES=%{y}<br>duration=%{marker.size}<extra></extra>",
         "hovertext": [
          "CZU LIGHTNING COMPLEX"
         ],
         "legendgroup": "CZU",
         "marker": {
          "color": "#19d3f3",
          "size": [
           39
          ],
          "sizemode": "area",
          "sizeref": 0.0664,
          "symbol": "circle"
         },
         "mode": "markers",
         "name": "CZU",
         "orientation": "v",
         "showlegend": true,
         "type": "scatter",
         "x": [
          "2020-08-16T00:00:00"
         ],
         "xaxis": "x",
         "y": [
          86553.4609375
         ],
         "yaxis": "y"
        },
        {
         "hovertemplate": "<b>%{hovertext}</b><br><br>UNIT_ID=MNF<br>ALARM_DATE=%{x}<br>GIS_ACRES=%{y}<br>duration=%{marker.size}<extra></extra>",
         "hovertext": [
          "AUGUST COMPLEX FIRES"
         ],
         "legendgroup": "MNF",
         "marker": {
          "color": "#FF6692",
          "size": [
           87
          ],
          "sizemode": "area",
          "sizeref": 0.0664,
          "symbol": "circle"
         },
         "mode": "markers",
         "name": "MNF",
         "orientation": "v",
         "showlegend": true,
         "type": "scatter",
         "x": [
          "2020-08-16T00:00:00"
         ],
         "xaxis": "x",
         "y": [
          1032699
         ],
         "yaxis": "y"
        },
        {
         "hovertemplate": "<b>%{hovertext}</b><br><br>UNIT_ID=KNP<br>ALARM_DATE=%{x}<br>GIS_ACRES=%{y}<br>duration=%{marker.size}<extra></extra>",
         "hovertext": [
          "RATTLESNAKE"
         ],
         "legendgroup": "KNP",
         "marker": {
          "color": "#B6E880",
          "size": [
           134
          ],
          "sizemode": "area",
          "sizeref": 0.0664,
          "symbol": "circle"
         },
         "mode": "markers",
         "name": "KNP",
         "orientation": "v",
         "showlegend": true,
         "type": "scatter",
         "x": [
          "2020-08-16T00:00:00"
         ],
         "xaxis": "x",
         "y": [
          8422.83691406
         ],
         "yaxis": "y"
        }
       ],
       "layout": {
        "legend": {
         "itemsizing": "constant",
         "title": {
          "text": "UNIT_ID"
         },
         "tracegroupgap": 0
        },
        "template": {
         "data": {
          "bar": [
           {
            "error_x": {
             "color": "#2a3f5f"
            },
            "error_y": {
             "color": "#2a3f5f"
            },
            "marker": {
             "line": {
              "color": "#E5ECF6",
              "width": 0.5
             },
             "pattern": {
              "fillmode": "overlay",
              "size": 10,
              "solidity": 0.2
             }
            },
            "type": "bar"
           }
          ],
          "barpolar": [
           {
            "marker": {
             "line": {
              "color": "#E5ECF6",
              "width": 0.5
             },
             "pattern": {
              "fillmode": "overlay",
              "size": 10,
              "solidity": 0.2
             }
            },
            "type": "barpolar"
           }
          ],
          "carpet": [
           {
            "aaxis": {
             "endlinecolor": "#2a3f5f",
             "gridcolor": "white",
             "linecolor": "white",
             "minorgridcolor": "white",
             "startlinecolor": "#2a3f5f"
            },
            "baxis": {
             "endlinecolor": "#2a3f5f",
             "gridcolor": "white",
             "linecolor": "white",
             "minorgridcolor": "white",
             "startlinecolor": "#2a3f5f"
            },
            "type": "carpet"
           }
          ],
          "choropleth": [
           {
            "colorbar": {
             "outlinewidth": 0,
             "ticks": ""
            },
            "type": "choropleth"
           }
          ],
          "contour": [
           {
            "colorbar": {
             "outlinewidth": 0,
             "ticks": ""
            },
            "colorscale": [
             [
              0,
              "#0d0887"
             ],
             [
              0.1111111111111111,
              "#46039f"
             ],
             [
              0.2222222222222222,
              "#7201a8"
             ],
             [
              0.3333333333333333,
              "#9c179e"
             ],
             [
              0.4444444444444444,
              "#bd3786"
             ],
             [
              0.5555555555555556,
              "#d8576b"
             ],
             [
              0.6666666666666666,
              "#ed7953"
             ],
             [
              0.7777777777777778,
              "#fb9f3a"
             ],
             [
              0.8888888888888888,
              "#fdca26"
             ],
             [
              1,
              "#f0f921"
             ]
            ],
            "type": "contour"
           }
          ],
          "contourcarpet": [
           {
            "colorbar": {
             "outlinewidth": 0,
             "ticks": ""
            },
            "type": "contourcarpet"
           }
          ],
          "heatmap": [
           {
            "colorbar": {
             "outlinewidth": 0,
             "ticks": ""
            },
            "colorscale": [
             [
              0,
              "#0d0887"
             ],
             [
              0.1111111111111111,
              "#46039f"
             ],
             [
              0.2222222222222222,
              "#7201a8"
             ],
             [
              0.3333333333333333,
              "#9c179e"
             ],
             [
              0.4444444444444444,
              "#bd3786"
             ],
             [
              0.5555555555555556,
              "#d8576b"
             ],
             [
              0.6666666666666666,
              "#ed7953"
             ],
             [
              0.7777777777777778,
              "#fb9f3a"
             ],
             [
              0.8888888888888888,
              "#fdca26"
             ],
             [
              1,
              "#f0f921"
             ]
            ],
            "type": "heatmap"
           }
          ],
          "heatmapgl": [
           {
            "colorbar": {
             "outlinewidth": 0,
             "ticks": ""
            },
            "colorscale": [
             [
              0,
              "#0d0887"
             ],
             [
              0.1111111111111111,
              "#46039f"
             ],
             [
              0.2222222222222222,
              "#7201a8"
             ],
             [
              0.3333333333333333,
              "#9c179e"
             ],
             [
              0.4444444444444444,
              "#bd3786"
             ],
             [
              0.5555555555555556,
              "#d8576b"
             ],
             [
              0.6666666666666666,
              "#ed7953"
             ],
             [
              0.7777777777777778,
              "#fb9f3a"
             ],
             [
              0.8888888888888888,
              "#fdca26"
             ],
             [
              1,
              "#f0f921"
             ]
            ],
            "type": "heatmapgl"
           }
          ],
          "histogram": [
           {
            "marker": {
             "pattern": {
              "fillmode": "overlay",
              "size": 10,
              "solidity": 0.2
             }
            },
            "type": "histogram"
           }
          ],
          "histogram2d": [
           {
            "colorbar": {
             "outlinewidth": 0,
             "ticks": ""
            },
            "colorscale": [
             [
              0,
              "#0d0887"
             ],
             [
              0.1111111111111111,
              "#46039f"
             ],
             [
              0.2222222222222222,
              "#7201a8"
             ],
             [
              0.3333333333333333,
              "#9c179e"
             ],
             [
              0.4444444444444444,
              "#bd3786"
             ],
             [
              0.5555555555555556,
              "#d8576b"
             ],
             [
              0.6666666666666666,
              "#ed7953"
             ],
             [
              0.7777777777777778,
              "#fb9f3a"
             ],
             [
              0.8888888888888888,
              "#fdca26"
             ],
             [
              1,
              "#f0f921"
             ]
            ],
            "type": "histogram2d"
           }
          ],
          "histogram2dcontour": [
           {
            "colorbar": {
             "outlinewidth": 0,
             "ticks": ""
            },
            "colorscale": [
             [
              0,
              "#0d0887"
             ],
             [
              0.1111111111111111,
              "#46039f"
             ],
             [
              0.2222222222222222,
              "#7201a8"
             ],
             [
              0.3333333333333333,
              "#9c179e"
             ],
             [
              0.4444444444444444,
              "#bd3786"
             ],
             [
              0.5555555555555556,
              "#d8576b"
             ],
             [
              0.6666666666666666,
              "#ed7953"
             ],
             [
              0.7777777777777778,
              "#fb9f3a"
             ],
             [
              0.8888888888888888,
              "#fdca26"
             ],
             [
              1,
              "#f0f921"
             ]
            ],
            "type": "histogram2dcontour"
           }
          ],
          "mesh3d": [
           {
            "colorbar": {
             "outlinewidth": 0,
             "ticks": ""
            },
            "type": "mesh3d"
           }
          ],
          "parcoords": [
           {
            "line": {
             "colorbar": {
              "outlinewidth": 0,
              "ticks": ""
             }
            },
            "type": "parcoords"
           }
          ],
          "pie": [
           {
            "automargin": true,
            "type": "pie"
           }
          ],
          "scatter": [
           {
            "fillpattern": {
             "fillmode": "overlay",
             "size": 10,
             "solidity": 0.2
            },
            "type": "scatter"
           }
          ],
          "scatter3d": [
           {
            "line": {
             "colorbar": {
              "outlinewidth": 0,
              "ticks": ""
             }
            },
            "marker": {
             "colorbar": {
              "outlinewidth": 0,
              "ticks": ""
             }
            },
            "type": "scatter3d"
           }
          ],
          "scattercarpet": [
           {
            "marker": {
             "colorbar": {
              "outlinewidth": 0,
              "ticks": ""
             }
            },
            "type": "scattercarpet"
           }
          ],
          "scattergeo": [
           {
            "marker": {
             "colorbar": {
              "outlinewidth": 0,
              "ticks": ""
             }
            },
            "type": "scattergeo"
           }
          ],
          "scattergl": [
           {
            "marker": {
             "colorbar": {
              "outlinewidth": 0,
              "ticks": ""
             }
            },
            "type": "scattergl"
           }
          ],
          "scattermapbox": [
           {
            "marker": {
             "colorbar": {
              "outlinewidth": 0,
              "ticks": ""
             }
            },
            "type": "scattermapbox"
           }
          ],
          "scatterpolar": [
           {
            "marker": {
             "colorbar": {
              "outlinewidth": 0,
              "ticks": ""
             }
            },
            "type": "scatterpolar"
           }
          ],
          "scatterpolargl": [
           {
            "marker": {
             "colorbar": {
              "outlinewidth": 0,
              "ticks": ""
             }
            },
            "type": "scatterpolargl"
           }
          ],
          "scatterternary": [
           {
            "marker": {
             "colorbar": {
              "outlinewidth": 0,
              "ticks": ""
             }
            },
            "type": "scatterternary"
           }
          ],
          "surface": [
           {
            "colorbar": {
             "outlinewidth": 0,
             "ticks": ""
            },
            "colorscale": [
             [
              0,
              "#0d0887"
             ],
             [
              0.1111111111111111,
              "#46039f"
             ],
             [
              0.2222222222222222,
              "#7201a8"
             ],
             [
              0.3333333333333333,
              "#9c179e"
             ],
             [
              0.4444444444444444,
              "#bd3786"
             ],
             [
              0.5555555555555556,
              "#d8576b"
             ],
             [
              0.6666666666666666,
              "#ed7953"
             ],
             [
              0.7777777777777778,
              "#fb9f3a"
             ],
             [
              0.8888888888888888,
              "#fdca26"
             ],
             [
              1,
              "#f0f921"
             ]
            ],
            "type": "surface"
           }
          ],
          "table": [
           {
            "cells": {
             "fill": {
              "color": "#EBF0F8"
             },
             "line": {
              "color": "white"
             }
            },
            "header": {
             "fill": {
              "color": "#C8D4E3"
             },
             "line": {
              "color": "white"
             }
            },
            "type": "table"
           }
          ]
         },
         "layout": {
          "annotationdefaults": {
           "arrowcolor": "#2a3f5f",
           "arrowhead": 0,
           "arrowwidth": 1
          },
          "autotypenumbers": "strict",
          "coloraxis": {
           "colorbar": {
            "outlinewidth": 0,
            "ticks": ""
           }
          },
          "colorscale": {
           "diverging": [
            [
             0,
             "#8e0152"
            ],
            [
             0.1,
             "#c51b7d"
            ],
            [
             0.2,
             "#de77ae"
            ],
            [
             0.3,
             "#f1b6da"
            ],
            [
             0.4,
             "#fde0ef"
            ],
            [
             0.5,
             "#f7f7f7"
            ],
            [
             0.6,
             "#e6f5d0"
            ],
            [
             0.7,
             "#b8e186"
            ],
            [
             0.8,
             "#7fbc41"
            ],
            [
             0.9,
             "#4d9221"
            ],
            [
             1,
             "#276419"
            ]
           ],
           "sequential": [
            [
             0,
             "#0d0887"
            ],
            [
             0.1111111111111111,
             "#46039f"
            ],
            [
             0.2222222222222222,
             "#7201a8"
            ],
            [
             0.3333333333333333,
             "#9c179e"
            ],
            [
             0.4444444444444444,
             "#bd3786"
            ],
            [
             0.5555555555555556,
             "#d8576b"
            ],
            [
             0.6666666666666666,
             "#ed7953"
            ],
            [
             0.7777777777777778,
             "#fb9f3a"
            ],
            [
             0.8888888888888888,
             "#fdca26"
            ],
            [
             1,
             "#f0f921"
            ]
           ],
           "sequentialminus": [
            [
             0,
             "#0d0887"
            ],
            [
             0.1111111111111111,
             "#46039f"
            ],
            [
             0.2222222222222222,
             "#7201a8"
            ],
            [
             0.3333333333333333,
             "#9c179e"
            ],
            [
             0.4444444444444444,
             "#bd3786"
            ],
            [
             0.5555555555555556,
             "#d8576b"
            ],
            [
             0.6666666666666666,
             "#ed7953"
            ],
            [
             0.7777777777777778,
             "#fb9f3a"
            ],
            [
             0.8888888888888888,
             "#fdca26"
            ],
            [
             1,
             "#f0f921"
            ]
           ]
          },
          "colorway": [
           "#636efa",
           "#EF553B",
           "#00cc96",
           "#ab63fa",
           "#FFA15A",
           "#19d3f3",
           "#FF6692",
           "#B6E880",
           "#FF97FF",
           "#FECB52"
          ],
          "font": {
           "color": "#2a3f5f"
          },
          "geo": {
           "bgcolor": "white",
           "lakecolor": "white",
           "landcolor": "#E5ECF6",
           "showlakes": true,
           "showland": true,
           "subunitcolor": "white"
          },
          "hoverlabel": {
           "align": "left"
          },
          "hovermode": "closest",
          "mapbox": {
           "style": "light"
          },
          "paper_bgcolor": "white",
          "plot_bgcolor": "#E5ECF6",
          "polar": {
           "angularaxis": {
            "gridcolor": "white",
            "linecolor": "white",
            "ticks": ""
           },
           "bgcolor": "#E5ECF6",
           "radialaxis": {
            "gridcolor": "white",
            "linecolor": "white",
            "ticks": ""
           }
          },
          "scene": {
           "xaxis": {
            "backgroundcolor": "#E5ECF6",
            "gridcolor": "white",
            "gridwidth": 2,
            "linecolor": "white",
            "showbackground": true,
            "ticks": "",
            "zerolinecolor": "white"
           },
           "yaxis": {
            "backgroundcolor": "#E5ECF6",
            "gridcolor": "white",
            "gridwidth": 2,
            "linecolor": "white",
            "showbackground": true,
            "ticks": "",
            "zerolinecolor": "white"
           },
           "zaxis": {
            "backgroundcolor": "#E5ECF6",
            "gridcolor": "white",
            "gridwidth": 2,
            "linecolor": "white",
            "showbackground": true,
            "ticks": "",
            "zerolinecolor": "white"
           }
          },
          "shapedefaults": {
           "line": {
            "color": "#2a3f5f"
           }
          },
          "ternary": {
           "aaxis": {
            "gridcolor": "white",
            "linecolor": "white",
            "ticks": ""
           },
           "baxis": {
            "gridcolor": "white",
            "linecolor": "white",
            "ticks": ""
           },
           "bgcolor": "#E5ECF6",
           "caxis": {
            "gridcolor": "white",
            "linecolor": "white",
            "ticks": ""
           }
          },
          "title": {
           "x": 0.05
          },
          "xaxis": {
           "automargin": true,
           "gridcolor": "white",
           "linecolor": "white",
           "ticks": "",
           "title": {
            "standoff": 15
           },
           "zerolinecolor": "white",
           "zerolinewidth": 2
          },
          "yaxis": {
           "automargin": true,
           "gridcolor": "white",
           "linecolor": "white",
           "ticks": "",
           "title": {
            "standoff": 15
           },
           "zerolinecolor": "white",
           "zerolinewidth": 2
          }
         }
        },
        "title": {
         "text": "California Wildfires 2016 to 2020"
        },
        "xaxis": {
         "anchor": "y",
         "domain": [
          0,
          1
         ],
         "showgrid": false,
         "title": {
          "text": "ALARM_DATE"
         }
        },
        "yaxis": {
         "anchor": "x",
         "domain": [
          0,
          1
         ],
         "showgrid": false,
         "title": {
          "text": "GIS_ACRES"
         }
        }
       }
      }
     },
     "metadata": {},
     "output_type": "display_data"
    }
   ],
   "source": [
    "fig = px.scatter(cal_fire_data, x = 'ALARM_DATE', y = 'GIS_ACRES', size = 'duration',\n",
    "                 color = 'UNIT_ID', hover_name='FIRE_NAME',\n",
    "                  size_max=50, title = 'California Wildfires 2016 to 2020')\n",
    "\n",
    "fig.update_layout(xaxis = dict(showgrid=False), yaxis = dict(showgrid=False))\n",
    "\n",
    "fig"
   ]
  },
  {
   "cell_type": "markdown",
   "metadata": {},
   "source": [
    "### Conclusions from the above plot\n",
    "There are a few conclusions that can be drawn:\n",
    "1. In the past 5 years, each year there have been fires that burnt for more than 100 days.Trailhead fire in 2016, Schaeffer fire in 2017, Lions in 2017, Springs in 2018 and Rattlesnake in 2020.\n",
    "2. But what is extraordinary is that number of fires in a year has increased.\n",
    "3. And the number of acres burnt in the fire have increased, 2020 being the year in which August Complex Fires burnt more than a million acres!"
   ]
  },
  {
   "cell_type": "markdown",
   "metadata": {},
   "source": [
    "### Section 2: California census and county boundaries"
   ]
  },
  {
   "cell_type": "code",
   "execution_count": 91,
   "metadata": {},
   "outputs": [
    {
     "data": {
      "text/html": [
       "<div>\n",
       "<style scoped>\n",
       "    .dataframe tbody tr th:only-of-type {\n",
       "        vertical-align: middle;\n",
       "    }\n",
       "\n",
       "    .dataframe tbody tr th {\n",
       "        vertical-align: top;\n",
       "    }\n",
       "\n",
       "    .dataframe thead th {\n",
       "        text-align: right;\n",
       "    }\n",
       "</style>\n",
       "<table border=\"1\" class=\"dataframe\">\n",
       "  <thead>\n",
       "    <tr style=\"text-align: right;\">\n",
       "      <th></th>\n",
       "      <th>STATEFP</th>\n",
       "      <th>COUNTYFP</th>\n",
       "      <th>COUNTYNS</th>\n",
       "      <th>GEOID</th>\n",
       "      <th>NAME</th>\n",
       "      <th>NAMELSAD</th>\n",
       "      <th>LSAD</th>\n",
       "      <th>CLASSFP</th>\n",
       "      <th>MTFCC</th>\n",
       "      <th>CSAFP</th>\n",
       "      <th>CBSAFP</th>\n",
       "      <th>METDIVFP</th>\n",
       "      <th>FUNCSTAT</th>\n",
       "      <th>ALAND</th>\n",
       "      <th>AWATER</th>\n",
       "      <th>INTPTLAT</th>\n",
       "      <th>INTPTLON</th>\n",
       "      <th>geometry</th>\n",
       "    </tr>\n",
       "  </thead>\n",
       "  <tbody>\n",
       "    <tr>\n",
       "      <th>0</th>\n",
       "      <td>06</td>\n",
       "      <td>091</td>\n",
       "      <td>00277310</td>\n",
       "      <td>06091</td>\n",
       "      <td>Sierra</td>\n",
       "      <td>Sierra County</td>\n",
       "      <td>06</td>\n",
       "      <td>H1</td>\n",
       "      <td>G4020</td>\n",
       "      <td>None</td>\n",
       "      <td>None</td>\n",
       "      <td>None</td>\n",
       "      <td>A</td>\n",
       "      <td>2468694587</td>\n",
       "      <td>23299110</td>\n",
       "      <td>+39.5769252</td>\n",
       "      <td>-120.5219926</td>\n",
       "      <td>POLYGON ((-13431319.751 4821511.426, -13431312...</td>\n",
       "    </tr>\n",
       "    <tr>\n",
       "      <th>1</th>\n",
       "      <td>06</td>\n",
       "      <td>067</td>\n",
       "      <td>00277298</td>\n",
       "      <td>06067</td>\n",
       "      <td>Sacramento</td>\n",
       "      <td>Sacramento County</td>\n",
       "      <td>06</td>\n",
       "      <td>H1</td>\n",
       "      <td>G4020</td>\n",
       "      <td>472</td>\n",
       "      <td>40900</td>\n",
       "      <td>None</td>\n",
       "      <td>A</td>\n",
       "      <td>2499183617</td>\n",
       "      <td>76073827</td>\n",
       "      <td>+38.4500114</td>\n",
       "      <td>-121.3404409</td>\n",
       "      <td>POLYGON ((-13490651.476 4680831.603, -13490511...</td>\n",
       "    </tr>\n",
       "    <tr>\n",
       "      <th>2</th>\n",
       "      <td>06</td>\n",
       "      <td>083</td>\n",
       "      <td>00277306</td>\n",
       "      <td>06083</td>\n",
       "      <td>Santa Barbara</td>\n",
       "      <td>Santa Barbara County</td>\n",
       "      <td>06</td>\n",
       "      <td>H1</td>\n",
       "      <td>G4020</td>\n",
       "      <td>None</td>\n",
       "      <td>42200</td>\n",
       "      <td>None</td>\n",
       "      <td>A</td>\n",
       "      <td>7084000598</td>\n",
       "      <td>2729814515</td>\n",
       "      <td>+34.5370572</td>\n",
       "      <td>-120.0399729</td>\n",
       "      <td>MULTIPOLYGON (((-13423116.772 4042044.149, -13...</td>\n",
       "    </tr>\n",
       "    <tr>\n",
       "      <th>3</th>\n",
       "      <td>06</td>\n",
       "      <td>009</td>\n",
       "      <td>01675885</td>\n",
       "      <td>06009</td>\n",
       "      <td>Calaveras</td>\n",
       "      <td>Calaveras County</td>\n",
       "      <td>06</td>\n",
       "      <td>H1</td>\n",
       "      <td>G4020</td>\n",
       "      <td>None</td>\n",
       "      <td>None</td>\n",
       "      <td>None</td>\n",
       "      <td>A</td>\n",
       "      <td>2641820834</td>\n",
       "      <td>43806026</td>\n",
       "      <td>+38.1838996</td>\n",
       "      <td>-120.5614415</td>\n",
       "      <td>POLYGON ((-13428575.483 4627725.228, -13428534...</td>\n",
       "    </tr>\n",
       "    <tr>\n",
       "      <th>4</th>\n",
       "      <td>06</td>\n",
       "      <td>111</td>\n",
       "      <td>00277320</td>\n",
       "      <td>06111</td>\n",
       "      <td>Ventura</td>\n",
       "      <td>Ventura County</td>\n",
       "      <td>06</td>\n",
       "      <td>H1</td>\n",
       "      <td>G4020</td>\n",
       "      <td>348</td>\n",
       "      <td>37100</td>\n",
       "      <td>None</td>\n",
       "      <td>A</td>\n",
       "      <td>4773390489</td>\n",
       "      <td>945942791</td>\n",
       "      <td>+34.3587415</td>\n",
       "      <td>-119.1331432</td>\n",
       "      <td>MULTIPOLYGON (((-13317853.594 3931602.414, -13...</td>\n",
       "    </tr>\n",
       "  </tbody>\n",
       "</table>\n",
       "</div>"
      ],
      "text/plain": [
       "  STATEFP COUNTYFP  COUNTYNS  GEOID           NAME              NAMELSAD LSAD  \\\n",
       "0      06      091  00277310  06091         Sierra         Sierra County   06   \n",
       "1      06      067  00277298  06067     Sacramento     Sacramento County   06   \n",
       "2      06      083  00277306  06083  Santa Barbara  Santa Barbara County   06   \n",
       "3      06      009  01675885  06009      Calaveras      Calaveras County   06   \n",
       "4      06      111  00277320  06111        Ventura        Ventura County   06   \n",
       "\n",
       "  CLASSFP  MTFCC CSAFP CBSAFP METDIVFP FUNCSTAT       ALAND      AWATER  \\\n",
       "0      H1  G4020  None   None     None        A  2468694587    23299110   \n",
       "1      H1  G4020   472  40900     None        A  2499183617    76073827   \n",
       "2      H1  G4020  None  42200     None        A  7084000598  2729814515   \n",
       "3      H1  G4020  None   None     None        A  2641820834    43806026   \n",
       "4      H1  G4020   348  37100     None        A  4773390489   945942791   \n",
       "\n",
       "      INTPTLAT      INTPTLON  \\\n",
       "0  +39.5769252  -120.5219926   \n",
       "1  +38.4500114  -121.3404409   \n",
       "2  +34.5370572  -120.0399729   \n",
       "3  +38.1838996  -120.5614415   \n",
       "4  +34.3587415  -119.1331432   \n",
       "\n",
       "                                            geometry  \n",
       "0  POLYGON ((-13431319.751 4821511.426, -13431312...  \n",
       "1  POLYGON ((-13490651.476 4680831.603, -13490511...  \n",
       "2  MULTIPOLYGON (((-13423116.772 4042044.149, -13...  \n",
       "3  POLYGON ((-13428575.483 4627725.228, -13428534...  \n",
       "4  MULTIPOLYGON (((-13317853.594 3931602.414, -13...  "
      ]
     },
     "execution_count": 91,
     "metadata": {},
     "output_type": "execute_result"
    }
   ],
   "source": [
    "cal_counties = gpd.read_file(\"/DATASETS/CLIMATE_DATASETS/CA_DEMOGRAPHICS/CA_Counties/CA_Counties_TIGER2016.shp\")\n",
    "cal_counties.head()"
   ]
  },
  {
   "cell_type": "code",
   "execution_count": 92,
   "metadata": {},
   "outputs": [
    {
     "name": "stdout",
     "output_type": "stream",
     "text": [
      "County        object\n",
      "geometry    geometry\n",
      "dtype: object\n"
     ]
    },
    {
     "data": {
      "text/html": [
       "<div>\n",
       "<style scoped>\n",
       "    .dataframe tbody tr th:only-of-type {\n",
       "        vertical-align: middle;\n",
       "    }\n",
       "\n",
       "    .dataframe tbody tr th {\n",
       "        vertical-align: top;\n",
       "    }\n",
       "\n",
       "    .dataframe thead th {\n",
       "        text-align: right;\n",
       "    }\n",
       "</style>\n",
       "<table border=\"1\" class=\"dataframe\">\n",
       "  <thead>\n",
       "    <tr style=\"text-align: right;\">\n",
       "      <th></th>\n",
       "      <th>County</th>\n",
       "      <th>geometry</th>\n",
       "    </tr>\n",
       "  </thead>\n",
       "  <tbody>\n",
       "    <tr>\n",
       "      <th>0</th>\n",
       "      <td>Sierra County</td>\n",
       "      <td>POLYGON ((-13431319.751 4821511.426, -13431312...</td>\n",
       "    </tr>\n",
       "    <tr>\n",
       "      <th>1</th>\n",
       "      <td>Sacramento County</td>\n",
       "      <td>POLYGON ((-13490651.476 4680831.603, -13490511...</td>\n",
       "    </tr>\n",
       "    <tr>\n",
       "      <th>2</th>\n",
       "      <td>Santa Barbara County</td>\n",
       "      <td>MULTIPOLYGON (((-13423116.772 4042044.149, -13...</td>\n",
       "    </tr>\n",
       "    <tr>\n",
       "      <th>3</th>\n",
       "      <td>Calaveras County</td>\n",
       "      <td>POLYGON ((-13428575.483 4627725.228, -13428534...</td>\n",
       "    </tr>\n",
       "    <tr>\n",
       "      <th>4</th>\n",
       "      <td>Ventura County</td>\n",
       "      <td>MULTIPOLYGON (((-13317853.594 3931602.414, -13...</td>\n",
       "    </tr>\n",
       "  </tbody>\n",
       "</table>\n",
       "</div>"
      ],
      "text/plain": [
       "                 County                                           geometry\n",
       "0         Sierra County  POLYGON ((-13431319.751 4821511.426, -13431312...\n",
       "1     Sacramento County  POLYGON ((-13490651.476 4680831.603, -13490511...\n",
       "2  Santa Barbara County  MULTIPOLYGON (((-13423116.772 4042044.149, -13...\n",
       "3      Calaveras County  POLYGON ((-13428575.483 4627725.228, -13428534...\n",
       "4        Ventura County  MULTIPOLYGON (((-13317853.594 3931602.414, -13..."
      ]
     },
     "execution_count": 92,
     "metadata": {},
     "output_type": "execute_result"
    }
   ],
   "source": [
    "cal_counties_cols = ['NAMELSAD', 'geometry']\n",
    "cal_counties = cal_counties[cal_counties_cols]\n",
    "cal_counties = cal_counties.rename(columns = {'NAMELSAD': 'County'})\n",
    "print(cal_counties.dtypes)\n",
    "cal_counties.head()"
   ]
  },
  {
   "cell_type": "code",
   "execution_count": 93,
   "metadata": {},
   "outputs": [
    {
     "name": "stdout",
     "output_type": "stream",
     "text": [
      "Population    int64\n",
      "dtype: object\n"
     ]
    },
    {
     "data": {
      "text/html": [
       "<div>\n",
       "<style scoped>\n",
       "    .dataframe tbody tr th:only-of-type {\n",
       "        vertical-align: middle;\n",
       "    }\n",
       "\n",
       "    .dataframe tbody tr th {\n",
       "        vertical-align: top;\n",
       "    }\n",
       "\n",
       "    .dataframe thead th {\n",
       "        text-align: right;\n",
       "    }\n",
       "</style>\n",
       "<table border=\"1\" class=\"dataframe\">\n",
       "  <thead>\n",
       "    <tr style=\"text-align: right;\">\n",
       "      <th></th>\n",
       "      <th>Population</th>\n",
       "    </tr>\n",
       "    <tr>\n",
       "      <th>County</th>\n",
       "      <th></th>\n",
       "    </tr>\n",
       "  </thead>\n",
       "  <tbody>\n",
       "    <tr>\n",
       "      <th>Los Angeles County</th>\n",
       "      <td>10040682</td>\n",
       "    </tr>\n",
       "    <tr>\n",
       "      <th>San Diego County</th>\n",
       "      <td>3323970</td>\n",
       "    </tr>\n",
       "    <tr>\n",
       "      <th>Orange County</th>\n",
       "      <td>3170345</td>\n",
       "    </tr>\n",
       "    <tr>\n",
       "      <th>Riverside County</th>\n",
       "      <td>2437864</td>\n",
       "    </tr>\n",
       "    <tr>\n",
       "      <th>San Bernardino County</th>\n",
       "      <td>2162532</td>\n",
       "    </tr>\n",
       "  </tbody>\n",
       "</table>\n",
       "</div>"
      ],
      "text/plain": [
       "                        Population\n",
       "County                            \n",
       " Los Angeles County       10040682\n",
       " San Diego County          3323970\n",
       " Orange County             3170345\n",
       " Riverside County          2437864\n",
       " San Bernardino County     2162532"
      ]
     },
     "execution_count": 93,
     "metadata": {},
     "output_type": "execute_result"
    }
   ],
   "source": [
    "cal_pop = pd.read_csv(\"/DATASETS/CLIMATE_DATASETS/CA_DEMOGRAPHICS/ca_demographics.csv\", \n",
    "                        usecols=['County', 'Population'], index_col='County')\n",
    "print(cal_pop.dtypes)\n",
    "cal_pop.head()"
   ]
  },
  {
   "cell_type": "code",
   "execution_count": 48,
   "metadata": {},
   "outputs": [
    {
     "data": {
      "text/html": [
       "<div>\n",
       "<style scoped>\n",
       "    .dataframe tbody tr th:only-of-type {\n",
       "        vertical-align: middle;\n",
       "    }\n",
       "\n",
       "    .dataframe tbody tr th {\n",
       "        vertical-align: top;\n",
       "    }\n",
       "\n",
       "    .dataframe thead th {\n",
       "        text-align: right;\n",
       "    }\n",
       "</style>\n",
       "<table border=\"1\" class=\"dataframe\">\n",
       "  <thead>\n",
       "    <tr style=\"text-align: right;\">\n",
       "      <th></th>\n",
       "      <th>UNIT_ID</th>\n",
       "      <th>FIRE_NAME</th>\n",
       "      <th>ALARM_DATE</th>\n",
       "      <th>CONT_DATE</th>\n",
       "      <th>GIS_ACRES</th>\n",
       "      <th>geometry</th>\n",
       "      <th>year</th>\n",
       "      <th>month</th>\n",
       "      <th>duration</th>\n",
       "    </tr>\n",
       "  </thead>\n",
       "  <tbody>\n",
       "    <tr>\n",
       "      <th>6</th>\n",
       "      <td>AEU</td>\n",
       "      <td>GRANT FIRE</td>\n",
       "      <td>2020-06-12</td>\n",
       "      <td>2020-06-12</td>\n",
       "      <td>5.062198e+03</td>\n",
       "      <td>POLYGON ((-13490462.000 4655244.000, -13490478...</td>\n",
       "      <td>2020</td>\n",
       "      <td>6</td>\n",
       "      <td>0</td>\n",
       "    </tr>\n",
       "    <tr>\n",
       "      <th>11</th>\n",
       "      <td>SCU</td>\n",
       "      <td>CREWS</td>\n",
       "      <td>2020-07-05</td>\n",
       "      <td>2020-07-15</td>\n",
       "      <td>5.513000e+03</td>\n",
       "      <td>POLYGON ((-13519091.900 4438860.494, -13519102...</td>\n",
       "      <td>2020</td>\n",
       "      <td>7</td>\n",
       "      <td>10</td>\n",
       "    </tr>\n",
       "    <tr>\n",
       "      <th>7</th>\n",
       "      <td>FKU</td>\n",
       "      <td>MINERAL</td>\n",
       "      <td>2020-07-13</td>\n",
       "      <td>2020-07-26</td>\n",
       "      <td>2.966696e+04</td>\n",
       "      <td>POLYGON ((-13425044.636 4325786.972, -13425099...</td>\n",
       "      <td>2020</td>\n",
       "      <td>7</td>\n",
       "      <td>13</td>\n",
       "    </tr>\n",
       "    <tr>\n",
       "      <th>29</th>\n",
       "      <td>LMU</td>\n",
       "      <td>HOG</td>\n",
       "      <td>2020-07-18</td>\n",
       "      <td>2020-08-28</td>\n",
       "      <td>9.566355e+03</td>\n",
       "      <td>MULTIPOLYGON (((-13445698.136 4929615.517, -13...</td>\n",
       "      <td>2020</td>\n",
       "      <td>7</td>\n",
       "      <td>41</td>\n",
       "    </tr>\n",
       "    <tr>\n",
       "      <th>41</th>\n",
       "      <td>LMU</td>\n",
       "      <td>GOLD</td>\n",
       "      <td>2020-07-20</td>\n",
       "      <td>2020-10-29</td>\n",
       "      <td>2.265256e+04</td>\n",
       "      <td>MULTIPOLYGON (((-13443927.613 5030372.059, -13...</td>\n",
       "      <td>2020</td>\n",
       "      <td>7</td>\n",
       "      <td>101</td>\n",
       "    </tr>\n",
       "    <tr>\n",
       "      <th>32</th>\n",
       "      <td>BNP</td>\n",
       "      <td>CALDWELL</td>\n",
       "      <td>2020-07-22</td>\n",
       "      <td>2020-09-01</td>\n",
       "      <td>8.122437e+04</td>\n",
       "      <td>POLYGON ((-13536959.355 5136449.174, -13536953...</td>\n",
       "      <td>2020</td>\n",
       "      <td>7</td>\n",
       "      <td>41</td>\n",
       "    </tr>\n",
       "    <tr>\n",
       "      <th>31</th>\n",
       "      <td>YNP</td>\n",
       "      <td>BLUEJAY</td>\n",
       "      <td>2020-07-25</td>\n",
       "      <td>2020-11-19</td>\n",
       "      <td>6.921987e+03</td>\n",
       "      <td>MULTIPOLYGON (((-13311760.228 4561838.821, -13...</td>\n",
       "      <td>2020</td>\n",
       "      <td>7</td>\n",
       "      <td>117</td>\n",
       "    </tr>\n",
       "    <tr>\n",
       "      <th>30</th>\n",
       "      <td>SRF</td>\n",
       "      <td>RED SALMON COMPLEX</td>\n",
       "      <td>2020-07-27</td>\n",
       "      <td>2020-11-19</td>\n",
       "      <td>1.438363e+05</td>\n",
       "      <td>MULTIPOLYGON (((-13724176.440 5013954.702, -13...</td>\n",
       "      <td>2020</td>\n",
       "      <td>7</td>\n",
       "      <td>115</td>\n",
       "    </tr>\n",
       "    <tr>\n",
       "      <th>37</th>\n",
       "      <td>CDD</td>\n",
       "      <td>NADEAU</td>\n",
       "      <td>2020-07-29</td>\n",
       "      <td>2020-08-04</td>\n",
       "      <td>9.150368e+03</td>\n",
       "      <td>POLYGON ((-13072546.662 4299994.559, -13072399...</td>\n",
       "      <td>2020</td>\n",
       "      <td>7</td>\n",
       "      <td>6</td>\n",
       "    </tr>\n",
       "    <tr>\n",
       "      <th>12</th>\n",
       "      <td>RRU</td>\n",
       "      <td>APPLE</td>\n",
       "      <td>2020-07-31</td>\n",
       "      <td>2020-08-09</td>\n",
       "      <td>3.320931e+04</td>\n",
       "      <td>POLYGON ((-12998908.799 4032128.631, -12998870...</td>\n",
       "      <td>2020</td>\n",
       "      <td>7</td>\n",
       "      <td>9</td>\n",
       "    </tr>\n",
       "    <tr>\n",
       "      <th>38</th>\n",
       "      <td>CCD</td>\n",
       "      <td>NORTH</td>\n",
       "      <td>2020-08-02</td>\n",
       "      <td>2020-08-10</td>\n",
       "      <td>6.882267e+03</td>\n",
       "      <td>POLYGON ((-13358843.603 4848875.774, -13358805...</td>\n",
       "      <td>2020</td>\n",
       "      <td>8</td>\n",
       "      <td>8</td>\n",
       "    </tr>\n",
       "    <tr>\n",
       "      <th>4</th>\n",
       "      <td>KRN</td>\n",
       "      <td>STAGECOACH</td>\n",
       "      <td>2020-08-03</td>\n",
       "      <td>2020-08-03</td>\n",
       "      <td>7.750637e+03</td>\n",
       "      <td>POLYGON ((-13188248.679 4224512.550, -13188385...</td>\n",
       "      <td>2020</td>\n",
       "      <td>8</td>\n",
       "      <td>0</td>\n",
       "    </tr>\n",
       "    <tr>\n",
       "      <th>25</th>\n",
       "      <td>ANF</td>\n",
       "      <td>LAKE</td>\n",
       "      <td>2020-08-12</td>\n",
       "      <td>2020-08-30</td>\n",
       "      <td>3.099939e+04</td>\n",
       "      <td>POLYGON ((-13205490.911 4120841.874, -13205482...</td>\n",
       "      <td>2020</td>\n",
       "      <td>8</td>\n",
       "      <td>18</td>\n",
       "    </tr>\n",
       "    <tr>\n",
       "      <th>17</th>\n",
       "      <td>TNF</td>\n",
       "      <td>LOYALTON</td>\n",
       "      <td>2020-08-14</td>\n",
       "      <td>2020-08-27</td>\n",
       "      <td>4.672088e+04</td>\n",
       "      <td>MULTIPOLYGON (((-13373684.906 4830079.005, -13...</td>\n",
       "      <td>2020</td>\n",
       "      <td>8</td>\n",
       "      <td>13</td>\n",
       "    </tr>\n",
       "    <tr>\n",
       "      <th>33</th>\n",
       "      <td>MNP</td>\n",
       "      <td>DOME</td>\n",
       "      <td>2020-08-15</td>\n",
       "      <td>2020-09-12</td>\n",
       "      <td>4.421109e+04</td>\n",
       "      <td>POLYGON ((-12862165.587 4213600.002, -12862541...</td>\n",
       "      <td>2020</td>\n",
       "      <td>8</td>\n",
       "      <td>28</td>\n",
       "    </tr>\n",
       "    <tr>\n",
       "      <th>0</th>\n",
       "      <td>CZU</td>\n",
       "      <td>CZU LIGHTNING COMPLEX</td>\n",
       "      <td>2020-08-16</td>\n",
       "      <td>2020-09-24</td>\n",
       "      <td>8.655346e+04</td>\n",
       "      <td>MULTIPOLYGON (((-13594665.665 4447773.307, -13...</td>\n",
       "      <td>2020</td>\n",
       "      <td>8</td>\n",
       "      <td>39</td>\n",
       "    </tr>\n",
       "    <tr>\n",
       "      <th>9</th>\n",
       "      <td>BEU</td>\n",
       "      <td>RIVER</td>\n",
       "      <td>2020-08-16</td>\n",
       "      <td>2020-09-04</td>\n",
       "      <td>5.021382e+04</td>\n",
       "      <td>MULTIPOLYGON (((-13544574.959 4379177.157, -13...</td>\n",
       "      <td>2020</td>\n",
       "      <td>8</td>\n",
       "      <td>19</td>\n",
       "    </tr>\n",
       "    <tr>\n",
       "      <th>28</th>\n",
       "      <td>MNF</td>\n",
       "      <td>AUGUST COMPLEX FIRES</td>\n",
       "      <td>2020-08-16</td>\n",
       "      <td>2020-11-11</td>\n",
       "      <td>1.032699e+06</td>\n",
       "      <td>MULTIPOLYGON (((-13731408.932 4930346.641, -13...</td>\n",
       "      <td>2020</td>\n",
       "      <td>8</td>\n",
       "      <td>87</td>\n",
       "    </tr>\n",
       "    <tr>\n",
       "      <th>34</th>\n",
       "      <td>KNP</td>\n",
       "      <td>RATTLESNAKE</td>\n",
       "      <td>2020-08-16</td>\n",
       "      <td>2020-12-28</td>\n",
       "      <td>8.422837e+03</td>\n",
       "      <td>MULTIPOLYGON (((-13179520.558 4349562.000, -13...</td>\n",
       "      <td>2020</td>\n",
       "      <td>8</td>\n",
       "      <td>134</td>\n",
       "    </tr>\n",
       "    <tr>\n",
       "      <th>10</th>\n",
       "      <td>SCU</td>\n",
       "      <td>SCU COMPLEX</td>\n",
       "      <td>2020-08-16</td>\n",
       "      <td>2020-09-11</td>\n",
       "      <td>3.963990e+05</td>\n",
       "      <td>MULTIPOLYGON (((-13524268.279 4523869.596, -13...</td>\n",
       "      <td>2020</td>\n",
       "      <td>8</td>\n",
       "      <td>26</td>\n",
       "    </tr>\n",
       "    <tr>\n",
       "      <th>14</th>\n",
       "      <td>LNU</td>\n",
       "      <td>WALLBRIDGE</td>\n",
       "      <td>2020-08-17</td>\n",
       "      <td>2020-09-02</td>\n",
       "      <td>5.520889e+04</td>\n",
       "      <td>POLYGON ((-13706045.681 4673399.539, -13706034...</td>\n",
       "      <td>2020</td>\n",
       "      <td>8</td>\n",
       "      <td>16</td>\n",
       "    </tr>\n",
       "    <tr>\n",
       "      <th>15</th>\n",
       "      <td>LNU</td>\n",
       "      <td>HENNESSEY</td>\n",
       "      <td>2020-08-17</td>\n",
       "      <td>2020-09-16</td>\n",
       "      <td>3.053516e+05</td>\n",
       "      <td>POLYGON ((-13644908.733 4678477.240, -13644931...</td>\n",
       "      <td>2020</td>\n",
       "      <td>8</td>\n",
       "      <td>30</td>\n",
       "    </tr>\n",
       "    <tr>\n",
       "      <th>18</th>\n",
       "      <td>PNF</td>\n",
       "      <td>SHEEP</td>\n",
       "      <td>2020-08-17</td>\n",
       "      <td>2020-09-07</td>\n",
       "      <td>2.954112e+04</td>\n",
       "      <td>MULTIPOLYGON (((-13436049.692 4912612.713, -13...</td>\n",
       "      <td>2020</td>\n",
       "      <td>8</td>\n",
       "      <td>21</td>\n",
       "    </tr>\n",
       "    <tr>\n",
       "      <th>20</th>\n",
       "      <td>PNF</td>\n",
       "      <td>NORTH COMPLEX</td>\n",
       "      <td>2020-08-17</td>\n",
       "      <td>2020-12-03</td>\n",
       "      <td>3.187767e+05</td>\n",
       "      <td>MULTIPOLYGON (((-13448333.172 4856306.879, -13...</td>\n",
       "      <td>2020</td>\n",
       "      <td>8</td>\n",
       "      <td>108</td>\n",
       "    </tr>\n",
       "    <tr>\n",
       "      <th>19</th>\n",
       "      <td>LPF</td>\n",
       "      <td>DOLAN</td>\n",
       "      <td>2020-08-18</td>\n",
       "      <td>2020-12-31</td>\n",
       "      <td>1.245273e+05</td>\n",
       "      <td>POLYGON ((-13505404.277 4298529.912, -13505417...</td>\n",
       "      <td>2020</td>\n",
       "      <td>8</td>\n",
       "      <td>135</td>\n",
       "    </tr>\n",
       "    <tr>\n",
       "      <th>8</th>\n",
       "      <td>BEU</td>\n",
       "      <td>CARMEL</td>\n",
       "      <td>2020-08-18</td>\n",
       "      <td>2020-09-06</td>\n",
       "      <td>6.996942e+03</td>\n",
       "      <td>POLYGON ((-13548897.222 4362496.671, -13548824...</td>\n",
       "      <td>2020</td>\n",
       "      <td>8</td>\n",
       "      <td>19</td>\n",
       "    </tr>\n",
       "    <tr>\n",
       "      <th>40</th>\n",
       "      <td>NOD</td>\n",
       "      <td>W-5 COLD SPRINGS</td>\n",
       "      <td>2020-08-18</td>\n",
       "      <td>2020-09-13</td>\n",
       "      <td>8.481727e+04</td>\n",
       "      <td>POLYGON ((-13375296.407 5018119.354, -13375297...</td>\n",
       "      <td>2020</td>\n",
       "      <td>8</td>\n",
       "      <td>26</td>\n",
       "    </tr>\n",
       "    <tr>\n",
       "      <th>21</th>\n",
       "      <td>SQF</td>\n",
       "      <td>CASTLE</td>\n",
       "      <td>2020-08-19</td>\n",
       "      <td>2021-01-04</td>\n",
       "      <td>1.706478e+05</td>\n",
       "      <td>MULTIPOLYGON (((-13216204.239 4354362.271, -13...</td>\n",
       "      <td>2020</td>\n",
       "      <td>8</td>\n",
       "      <td>138</td>\n",
       "    </tr>\n",
       "    <tr>\n",
       "      <th>39</th>\n",
       "      <td>HTF</td>\n",
       "      <td>SLINK</td>\n",
       "      <td>2020-08-29</td>\n",
       "      <td>2020-11-13</td>\n",
       "      <td>2.675168e+04</td>\n",
       "      <td>POLYGON ((-13309129.624 4646679.907, -13309197...</td>\n",
       "      <td>2020</td>\n",
       "      <td>8</td>\n",
       "      <td>76</td>\n",
       "    </tr>\n",
       "    <tr>\n",
       "      <th>22</th>\n",
       "      <td>SNF</td>\n",
       "      <td>CREEK</td>\n",
       "      <td>2020-09-04</td>\n",
       "      <td>2020-12-24</td>\n",
       "      <td>3.798822e+05</td>\n",
       "      <td>MULTIPOLYGON (((-13278902.834 4522301.159, -13...</td>\n",
       "      <td>2020</td>\n",
       "      <td>9</td>\n",
       "      <td>111</td>\n",
       "    </tr>\n",
       "    <tr>\n",
       "      <th>26</th>\n",
       "      <td>CNF</td>\n",
       "      <td>VALLEY</td>\n",
       "      <td>2020-09-05</td>\n",
       "      <td>2020-09-24</td>\n",
       "      <td>1.638953e+04</td>\n",
       "      <td>POLYGON ((-12997591.920 3865873.616, -12997588...</td>\n",
       "      <td>2020</td>\n",
       "      <td>9</td>\n",
       "      <td>19</td>\n",
       "    </tr>\n",
       "    <tr>\n",
       "      <th>13</th>\n",
       "      <td>ANF</td>\n",
       "      <td>BOBCAT</td>\n",
       "      <td>2020-09-06</td>\n",
       "      <td>2020-10-19</td>\n",
       "      <td>1.159980e+05</td>\n",
       "      <td>MULTIPOLYGON (((-13131236.102 4074910.596, -13...</td>\n",
       "      <td>2020</td>\n",
       "      <td>9</td>\n",
       "      <td>43</td>\n",
       "    </tr>\n",
       "    <tr>\n",
       "      <th>24</th>\n",
       "      <td>KNF</td>\n",
       "      <td>SLATER</td>\n",
       "      <td>2020-09-08</td>\n",
       "      <td>2020-12-12</td>\n",
       "      <td>1.574298e+05</td>\n",
       "      <td>MULTIPOLYGON (((-13751427.227 5178112.741, -13...</td>\n",
       "      <td>2020</td>\n",
       "      <td>9</td>\n",
       "      <td>95</td>\n",
       "    </tr>\n",
       "    <tr>\n",
       "      <th>27</th>\n",
       "      <td>RRU</td>\n",
       "      <td>SNOW</td>\n",
       "      <td>2020-09-17</td>\n",
       "      <td>2020-09-24</td>\n",
       "      <td>6.253437e+03</td>\n",
       "      <td>POLYGON ((-12993354.966 4012513.610, -12993317...</td>\n",
       "      <td>2020</td>\n",
       "      <td>9</td>\n",
       "      <td>7</td>\n",
       "    </tr>\n",
       "    <tr>\n",
       "      <th>16</th>\n",
       "      <td>LNU</td>\n",
       "      <td>GLASS</td>\n",
       "      <td>2020-09-27</td>\n",
       "      <td>2020-10-20</td>\n",
       "      <td>6.748434e+04</td>\n",
       "      <td>MULTIPOLYGON (((-13644712.495 4659193.154, -13...</td>\n",
       "      <td>2020</td>\n",
       "      <td>9</td>\n",
       "      <td>23</td>\n",
       "    </tr>\n",
       "    <tr>\n",
       "      <th>5</th>\n",
       "      <td>SHU</td>\n",
       "      <td>ZOGG</td>\n",
       "      <td>2020-09-27</td>\n",
       "      <td>2020-10-13</td>\n",
       "      <td>5.633805e+04</td>\n",
       "      <td>POLYGON ((-13647007.799 4920044.727, -13647055...</td>\n",
       "      <td>2020</td>\n",
       "      <td>9</td>\n",
       "      <td>16</td>\n",
       "    </tr>\n",
       "    <tr>\n",
       "      <th>35</th>\n",
       "      <td>CCD</td>\n",
       "      <td>BACCARAT</td>\n",
       "      <td>2020-10-04</td>\n",
       "      <td>2020-10-11</td>\n",
       "      <td>1.045636e+04</td>\n",
       "      <td>MULTIPOLYGON (((-13354640.259 4826534.418, -13...</td>\n",
       "      <td>2020</td>\n",
       "      <td>10</td>\n",
       "      <td>7</td>\n",
       "    </tr>\n",
       "    <tr>\n",
       "      <th>2</th>\n",
       "      <td>ORC</td>\n",
       "      <td>BLUE RIDGE</td>\n",
       "      <td>2020-10-26</td>\n",
       "      <td>2020-11-02</td>\n",
       "      <td>1.369453e+04</td>\n",
       "      <td>POLYGON ((-13106401.000 4020965.000, -13106362...</td>\n",
       "      <td>2020</td>\n",
       "      <td>10</td>\n",
       "      <td>7</td>\n",
       "    </tr>\n",
       "    <tr>\n",
       "      <th>1</th>\n",
       "      <td>ORC</td>\n",
       "      <td>SILVERADO</td>\n",
       "      <td>2020-10-26</td>\n",
       "      <td>2020-11-02</td>\n",
       "      <td>1.246920e+04</td>\n",
       "      <td>POLYGON ((-13103802.000 3995244.000, -13103693...</td>\n",
       "      <td>2020</td>\n",
       "      <td>10</td>\n",
       "      <td>7</td>\n",
       "    </tr>\n",
       "    <tr>\n",
       "      <th>36</th>\n",
       "      <td>CND</td>\n",
       "      <td>MOUNTAIN VIEW</td>\n",
       "      <td>2020-11-17</td>\n",
       "      <td>2020-11-30</td>\n",
       "      <td>2.037449e+04</td>\n",
       "      <td>POLYGON ((-13296874.178 4651985.955, -13297108...</td>\n",
       "      <td>2020</td>\n",
       "      <td>11</td>\n",
       "      <td>13</td>\n",
       "    </tr>\n",
       "    <tr>\n",
       "      <th>3</th>\n",
       "      <td>ORC</td>\n",
       "      <td>BOND</td>\n",
       "      <td>2020-12-03</td>\n",
       "      <td>2020-12-07</td>\n",
       "      <td>6.681101e+03</td>\n",
       "      <td>POLYGON ((-13095398.000 3994547.000, -13095325...</td>\n",
       "      <td>2020</td>\n",
       "      <td>12</td>\n",
       "      <td>4</td>\n",
       "    </tr>\n",
       "  </tbody>\n",
       "</table>\n",
       "</div>"
      ],
      "text/plain": [
       "   UNIT_ID              FIRE_NAME ALARM_DATE  CONT_DATE     GIS_ACRES  \\\n",
       "6      AEU             GRANT FIRE 2020-06-12 2020-06-12  5.062198e+03   \n",
       "11     SCU                  CREWS 2020-07-05 2020-07-15  5.513000e+03   \n",
       "7      FKU                MINERAL 2020-07-13 2020-07-26  2.966696e+04   \n",
       "29     LMU                    HOG 2020-07-18 2020-08-28  9.566355e+03   \n",
       "41     LMU                   GOLD 2020-07-20 2020-10-29  2.265256e+04   \n",
       "32     BNP               CALDWELL 2020-07-22 2020-09-01  8.122437e+04   \n",
       "31     YNP                BLUEJAY 2020-07-25 2020-11-19  6.921987e+03   \n",
       "30     SRF     RED SALMON COMPLEX 2020-07-27 2020-11-19  1.438363e+05   \n",
       "37     CDD                 NADEAU 2020-07-29 2020-08-04  9.150368e+03   \n",
       "12     RRU                  APPLE 2020-07-31 2020-08-09  3.320931e+04   \n",
       "38     CCD                  NORTH 2020-08-02 2020-08-10  6.882267e+03   \n",
       "4      KRN             STAGECOACH 2020-08-03 2020-08-03  7.750637e+03   \n",
       "25     ANF                   LAKE 2020-08-12 2020-08-30  3.099939e+04   \n",
       "17     TNF               LOYALTON 2020-08-14 2020-08-27  4.672088e+04   \n",
       "33     MNP                   DOME 2020-08-15 2020-09-12  4.421109e+04   \n",
       "0      CZU  CZU LIGHTNING COMPLEX 2020-08-16 2020-09-24  8.655346e+04   \n",
       "9      BEU                  RIVER 2020-08-16 2020-09-04  5.021382e+04   \n",
       "28     MNF   AUGUST COMPLEX FIRES 2020-08-16 2020-11-11  1.032699e+06   \n",
       "34     KNP            RATTLESNAKE 2020-08-16 2020-12-28  8.422837e+03   \n",
       "10     SCU            SCU COMPLEX 2020-08-16 2020-09-11  3.963990e+05   \n",
       "14     LNU             WALLBRIDGE 2020-08-17 2020-09-02  5.520889e+04   \n",
       "15     LNU              HENNESSEY 2020-08-17 2020-09-16  3.053516e+05   \n",
       "18     PNF                  SHEEP 2020-08-17 2020-09-07  2.954112e+04   \n",
       "20     PNF          NORTH COMPLEX 2020-08-17 2020-12-03  3.187767e+05   \n",
       "19     LPF                  DOLAN 2020-08-18 2020-12-31  1.245273e+05   \n",
       "8      BEU                 CARMEL 2020-08-18 2020-09-06  6.996942e+03   \n",
       "40     NOD       W-5 COLD SPRINGS 2020-08-18 2020-09-13  8.481727e+04   \n",
       "21     SQF                 CASTLE 2020-08-19 2021-01-04  1.706478e+05   \n",
       "39     HTF                  SLINK 2020-08-29 2020-11-13  2.675168e+04   \n",
       "22     SNF                  CREEK 2020-09-04 2020-12-24  3.798822e+05   \n",
       "26     CNF                 VALLEY 2020-09-05 2020-09-24  1.638953e+04   \n",
       "13     ANF                 BOBCAT 2020-09-06 2020-10-19  1.159980e+05   \n",
       "24     KNF                 SLATER 2020-09-08 2020-12-12  1.574298e+05   \n",
       "27     RRU                   SNOW 2020-09-17 2020-09-24  6.253437e+03   \n",
       "16     LNU                  GLASS 2020-09-27 2020-10-20  6.748434e+04   \n",
       "5      SHU                   ZOGG 2020-09-27 2020-10-13  5.633805e+04   \n",
       "35     CCD               BACCARAT 2020-10-04 2020-10-11  1.045636e+04   \n",
       "2      ORC             BLUE RIDGE 2020-10-26 2020-11-02  1.369453e+04   \n",
       "1      ORC              SILVERADO 2020-10-26 2020-11-02  1.246920e+04   \n",
       "36     CND          MOUNTAIN VIEW 2020-11-17 2020-11-30  2.037449e+04   \n",
       "3      ORC                   BOND 2020-12-03 2020-12-07  6.681101e+03   \n",
       "\n",
       "                                             geometry  year  month  duration  \n",
       "6   POLYGON ((-13490462.000 4655244.000, -13490478...  2020      6         0  \n",
       "11  POLYGON ((-13519091.900 4438860.494, -13519102...  2020      7        10  \n",
       "7   POLYGON ((-13425044.636 4325786.972, -13425099...  2020      7        13  \n",
       "29  MULTIPOLYGON (((-13445698.136 4929615.517, -13...  2020      7        41  \n",
       "41  MULTIPOLYGON (((-13443927.613 5030372.059, -13...  2020      7       101  \n",
       "32  POLYGON ((-13536959.355 5136449.174, -13536953...  2020      7        41  \n",
       "31  MULTIPOLYGON (((-13311760.228 4561838.821, -13...  2020      7       117  \n",
       "30  MULTIPOLYGON (((-13724176.440 5013954.702, -13...  2020      7       115  \n",
       "37  POLYGON ((-13072546.662 4299994.559, -13072399...  2020      7         6  \n",
       "12  POLYGON ((-12998908.799 4032128.631, -12998870...  2020      7         9  \n",
       "38  POLYGON ((-13358843.603 4848875.774, -13358805...  2020      8         8  \n",
       "4   POLYGON ((-13188248.679 4224512.550, -13188385...  2020      8         0  \n",
       "25  POLYGON ((-13205490.911 4120841.874, -13205482...  2020      8        18  \n",
       "17  MULTIPOLYGON (((-13373684.906 4830079.005, -13...  2020      8        13  \n",
       "33  POLYGON ((-12862165.587 4213600.002, -12862541...  2020      8        28  \n",
       "0   MULTIPOLYGON (((-13594665.665 4447773.307, -13...  2020      8        39  \n",
       "9   MULTIPOLYGON (((-13544574.959 4379177.157, -13...  2020      8        19  \n",
       "28  MULTIPOLYGON (((-13731408.932 4930346.641, -13...  2020      8        87  \n",
       "34  MULTIPOLYGON (((-13179520.558 4349562.000, -13...  2020      8       134  \n",
       "10  MULTIPOLYGON (((-13524268.279 4523869.596, -13...  2020      8        26  \n",
       "14  POLYGON ((-13706045.681 4673399.539, -13706034...  2020      8        16  \n",
       "15  POLYGON ((-13644908.733 4678477.240, -13644931...  2020      8        30  \n",
       "18  MULTIPOLYGON (((-13436049.692 4912612.713, -13...  2020      8        21  \n",
       "20  MULTIPOLYGON (((-13448333.172 4856306.879, -13...  2020      8       108  \n",
       "19  POLYGON ((-13505404.277 4298529.912, -13505417...  2020      8       135  \n",
       "8   POLYGON ((-13548897.222 4362496.671, -13548824...  2020      8        19  \n",
       "40  POLYGON ((-13375296.407 5018119.354, -13375297...  2020      8        26  \n",
       "21  MULTIPOLYGON (((-13216204.239 4354362.271, -13...  2020      8       138  \n",
       "39  POLYGON ((-13309129.624 4646679.907, -13309197...  2020      8        76  \n",
       "22  MULTIPOLYGON (((-13278902.834 4522301.159, -13...  2020      9       111  \n",
       "26  POLYGON ((-12997591.920 3865873.616, -12997588...  2020      9        19  \n",
       "13  MULTIPOLYGON (((-13131236.102 4074910.596, -13...  2020      9        43  \n",
       "24  MULTIPOLYGON (((-13751427.227 5178112.741, -13...  2020      9        95  \n",
       "27  POLYGON ((-12993354.966 4012513.610, -12993317...  2020      9         7  \n",
       "16  MULTIPOLYGON (((-13644712.495 4659193.154, -13...  2020      9        23  \n",
       "5   POLYGON ((-13647007.799 4920044.727, -13647055...  2020      9        16  \n",
       "35  MULTIPOLYGON (((-13354640.259 4826534.418, -13...  2020     10         7  \n",
       "2   POLYGON ((-13106401.000 4020965.000, -13106362...  2020     10         7  \n",
       "1   POLYGON ((-13103802.000 3995244.000, -13103693...  2020     10         7  \n",
       "36  POLYGON ((-13296874.178 4651985.955, -13297108...  2020     11        13  \n",
       "3   POLYGON ((-13095398.000 3994547.000, -13095325...  2020     12         4  "
      ]
     },
     "execution_count": 48,
     "metadata": {},
     "output_type": "execute_result"
    }
   ],
   "source": [
    "latest_fire_data =  cal_fire_data.loc[cal_fire_data.year>=2020].copy()\n",
    "latest_fire_data"
   ]
  },
  {
   "cell_type": "code",
   "execution_count": 49,
   "metadata": {},
   "outputs": [
    {
     "data": {
      "text/plain": [
       "<AxesSubplot:>"
      ]
     },
     "execution_count": 49,
     "metadata": {},
     "output_type": "execute_result"
    },
    {
     "data": {
      "image/png": "[encoded data removed]",
      "text/plain": [
       "<Figure size 576x432 with 1 Axes>"
      ]
     },
     "metadata": {
      "needs_background": "light"
     },
     "output_type": "display_data"
    }
   ],
   "source": [
    "latest_fire_data.plot(figsize=(8,6))"
   ]
  },
  {
   "cell_type": "code",
   "execution_count": 79,
   "metadata": {},
   "outputs": [
    {
     "name": "stdout",
     "output_type": "stream",
     "text": [
      "CRS: epsg:3857\n"
     ]
    }
   ],
   "source": [
    "print(\"CRS:\", latest_fire_data.crs)"
   ]
  },
  {
   "cell_type": "code",
   "execution_count": 50,
   "metadata": {},
   "outputs": [
    {
     "data": {
      "text/html": [
       "<div>\n",
       "<style scoped>\n",
       "    .dataframe tbody tr th:only-of-type {\n",
       "        vertical-align: middle;\n",
       "    }\n",
       "\n",
       "    .dataframe tbody tr th {\n",
       "        vertical-align: top;\n",
       "    }\n",
       "\n",
       "    .dataframe thead th {\n",
       "        text-align: right;\n",
       "    }\n",
       "</style>\n",
       "<table border=\"1\" class=\"dataframe\">\n",
       "  <thead>\n",
       "    <tr style=\"text-align: right;\">\n",
       "      <th></th>\n",
       "      <th>UNIT_ID</th>\n",
       "      <th>FIRE_NAME</th>\n",
       "      <th>ALARM_DATE</th>\n",
       "      <th>CONT_DATE</th>\n",
       "      <th>GIS_ACRES</th>\n",
       "      <th>geometry</th>\n",
       "      <th>year</th>\n",
       "      <th>month</th>\n",
       "      <th>duration</th>\n",
       "    </tr>\n",
       "  </thead>\n",
       "  <tbody>\n",
       "    <tr>\n",
       "      <th>6</th>\n",
       "      <td>AEU</td>\n",
       "      <td>GRANT FIRE</td>\n",
       "      <td>2020-06-12</td>\n",
       "      <td>2020-06-12</td>\n",
       "      <td>5062.198242</td>\n",
       "      <td>POLYGON ((-121.18688 38.53474, -121.18703 38.5...</td>\n",
       "      <td>2020</td>\n",
       "      <td>6</td>\n",
       "      <td>0</td>\n",
       "    </tr>\n",
       "    <tr>\n",
       "      <th>11</th>\n",
       "      <td>SCU</td>\n",
       "      <td>CREWS</td>\n",
       "      <td>2020-07-05</td>\n",
       "      <td>2020-07-15</td>\n",
       "      <td>5513.000000</td>\n",
       "      <td>POLYGON ((-121.44407 36.99823, -121.44416 36.9...</td>\n",
       "      <td>2020</td>\n",
       "      <td>7</td>\n",
       "      <td>10</td>\n",
       "    </tr>\n",
       "    <tr>\n",
       "      <th>7</th>\n",
       "      <td>FKU</td>\n",
       "      <td>MINERAL</td>\n",
       "      <td>2020-07-13</td>\n",
       "      <td>2020-07-26</td>\n",
       "      <td>29666.960938</td>\n",
       "      <td>POLYGON ((-120.59923 36.18268, -120.59972 36.1...</td>\n",
       "      <td>2020</td>\n",
       "      <td>7</td>\n",
       "      <td>13</td>\n",
       "    </tr>\n",
       "    <tr>\n",
       "      <th>29</th>\n",
       "      <td>LMU</td>\n",
       "      <td>HOG</td>\n",
       "      <td>2020-07-18</td>\n",
       "      <td>2020-08-28</td>\n",
       "      <td>9566.355469</td>\n",
       "      <td>MULTIPOLYGON (((-120.78476 40.43676, -120.7857...</td>\n",
       "      <td>2020</td>\n",
       "      <td>7</td>\n",
       "      <td>41</td>\n",
       "    </tr>\n",
       "    <tr>\n",
       "      <th>41</th>\n",
       "      <td>LMU</td>\n",
       "      <td>GOLD</td>\n",
       "      <td>2020-07-20</td>\n",
       "      <td>2020-10-29</td>\n",
       "      <td>22652.558594</td>\n",
       "      <td>MULTIPOLYGON (((-120.76886 41.12213, -120.7686...</td>\n",
       "      <td>2020</td>\n",
       "      <td>7</td>\n",
       "      <td>101</td>\n",
       "    </tr>\n",
       "  </tbody>\n",
       "</table>\n",
       "</div>"
      ],
      "text/plain": [
       "   UNIT_ID   FIRE_NAME ALARM_DATE  CONT_DATE     GIS_ACRES  \\\n",
       "6      AEU  GRANT FIRE 2020-06-12 2020-06-12   5062.198242   \n",
       "11     SCU       CREWS 2020-07-05 2020-07-15   5513.000000   \n",
       "7      FKU     MINERAL 2020-07-13 2020-07-26  29666.960938   \n",
       "29     LMU         HOG 2020-07-18 2020-08-28   9566.355469   \n",
       "41     LMU        GOLD 2020-07-20 2020-10-29  22652.558594   \n",
       "\n",
       "                                             geometry  year  month  duration  \n",
       "6   POLYGON ((-121.18688 38.53474, -121.18703 38.5...  2020      6         0  \n",
       "11  POLYGON ((-121.44407 36.99823, -121.44416 36.9...  2020      7        10  \n",
       "7   POLYGON ((-120.59923 36.18268, -120.59972 36.1...  2020      7        13  \n",
       "29  MULTIPOLYGON (((-120.78476 40.43676, -120.7857...  2020      7        41  \n",
       "41  MULTIPOLYGON (((-120.76886 41.12213, -120.7686...  2020      7       101  "
      ]
     },
     "execution_count": 50,
     "metadata": {},
     "output_type": "execute_result"
    }
   ],
   "source": [
    "# Use WGS 84 (epsg:4326) as the geographic coordinate system\n",
    "latest_fire_data = latest_fire_data.to_crs(epsg=4326)\n",
    "latest_fire_data.head()"
   ]
  },
  {
   "cell_type": "code",
   "execution_count": 81,
   "metadata": {},
   "outputs": [
    {
     "data": {
      "text/html": [
       "<div>\n",
       "<style scoped>\n",
       "    .dataframe tbody tr th:only-of-type {\n",
       "        vertical-align: middle;\n",
       "    }\n",
       "\n",
       "    .dataframe tbody tr th {\n",
       "        vertical-align: top;\n",
       "    }\n",
       "\n",
       "    .dataframe thead th {\n",
       "        text-align: right;\n",
       "    }\n",
       "</style>\n",
       "<table border=\"1\" class=\"dataframe\">\n",
       "  <thead>\n",
       "    <tr style=\"text-align: right;\">\n",
       "      <th></th>\n",
       "      <th>geometry</th>\n",
       "    </tr>\n",
       "    <tr>\n",
       "      <th>FIRE_NAME</th>\n",
       "      <th></th>\n",
       "    </tr>\n",
       "  </thead>\n",
       "  <tbody>\n",
       "    <tr>\n",
       "      <th>CZU LIGHTNING COMPLEX</th>\n",
       "      <td>MULTIPOLYGON (((-122.12296 37.06215, -122.1233...</td>\n",
       "    </tr>\n",
       "    <tr>\n",
       "      <th>SILVERADO</th>\n",
       "      <td>POLYGON ((-117.71346 33.74971, -117.71248 33.7...</td>\n",
       "    </tr>\n",
       "    <tr>\n",
       "      <th>BLUE RIDGE</th>\n",
       "      <td>POLYGON ((-117.73680 33.94161, -117.73645 33.9...</td>\n",
       "    </tr>\n",
       "    <tr>\n",
       "      <th>BOND</th>\n",
       "      <td>POLYGON ((-117.63796 33.74451, -117.63731 33.7...</td>\n",
       "    </tr>\n",
       "    <tr>\n",
       "      <th>STAGECOACH</th>\n",
       "      <td>POLYGON ((-118.47205 35.44494, -118.47329 35.4...</td>\n",
       "    </tr>\n",
       "  </tbody>\n",
       "</table>\n",
       "</div>"
      ],
      "text/plain": [
       "                                                                geometry\n",
       "FIRE_NAME                                                               \n",
       "CZU LIGHTNING COMPLEX  MULTIPOLYGON (((-122.12296 37.06215, -122.1233...\n",
       "SILVERADO              POLYGON ((-117.71346 33.74971, -117.71248 33.7...\n",
       "BLUE RIDGE             POLYGON ((-117.73680 33.94161, -117.73645 33.9...\n",
       "BOND                   POLYGON ((-117.63796 33.74451, -117.63731 33.7...\n",
       "STAGECOACH             POLYGON ((-118.47205 35.44494, -118.47329 35.4..."
      ]
     },
     "execution_count": 81,
     "metadata": {},
     "output_type": "execute_result"
    }
   ],
   "source": [
    "ca_fires_2020 = latest_fire_data[['FIRE_NAME', 'geometry']].set_index('FIRE_NAME')\n",
    "ca_fires_2020.head()"
   ]
  },
  {
   "cell_type": "markdown",
   "metadata": {},
   "source": [
    "### Section 2 of the notebook\n",
    "Getting the AQI data for the year 2020"
   ]
  },
  {
   "cell_type": "code",
   "execution_count": 56,
   "metadata": {},
   "outputs": [
    {
     "data": {
      "text/html": [
       "<div>\n",
       "<style scoped>\n",
       "    .dataframe tbody tr th:only-of-type {\n",
       "        vertical-align: middle;\n",
       "    }\n",
       "\n",
       "    .dataframe tbody tr th {\n",
       "        vertical-align: top;\n",
       "    }\n",
       "\n",
       "    .dataframe thead th {\n",
       "        text-align: right;\n",
       "    }\n",
       "</style>\n",
       "<table border=\"1\" class=\"dataframe\">\n",
       "  <thead>\n",
       "    <tr style=\"text-align: right;\">\n",
       "      <th></th>\n",
       "      <th>State Name</th>\n",
       "      <th>county Name</th>\n",
       "      <th>State Code</th>\n",
       "      <th>County Code</th>\n",
       "      <th>Date</th>\n",
       "      <th>AQI</th>\n",
       "      <th>Category</th>\n",
       "      <th>Defining Parameter</th>\n",
       "      <th>Defining Site</th>\n",
       "      <th>Number of Sites Reporting</th>\n",
       "    </tr>\n",
       "  </thead>\n",
       "  <tbody>\n",
       "    <tr>\n",
       "      <th>14197</th>\n",
       "      <td>California</td>\n",
       "      <td>Alameda</td>\n",
       "      <td>6</td>\n",
       "      <td>1</td>\n",
       "      <td>2020-01-01</td>\n",
       "      <td>53</td>\n",
       "      <td>Moderate</td>\n",
       "      <td>PM2.5</td>\n",
       "      <td>06-001-0009</td>\n",
       "      <td>7</td>\n",
       "    </tr>\n",
       "    <tr>\n",
       "      <th>14198</th>\n",
       "      <td>California</td>\n",
       "      <td>Alameda</td>\n",
       "      <td>6</td>\n",
       "      <td>1</td>\n",
       "      <td>2020-01-02</td>\n",
       "      <td>43</td>\n",
       "      <td>Good</td>\n",
       "      <td>PM2.5</td>\n",
       "      <td>06-001-0013</td>\n",
       "      <td>7</td>\n",
       "    </tr>\n",
       "    <tr>\n",
       "      <th>14199</th>\n",
       "      <td>California</td>\n",
       "      <td>Alameda</td>\n",
       "      <td>6</td>\n",
       "      <td>1</td>\n",
       "      <td>2020-01-03</td>\n",
       "      <td>74</td>\n",
       "      <td>Moderate</td>\n",
       "      <td>PM2.5</td>\n",
       "      <td>06-001-0013</td>\n",
       "      <td>7</td>\n",
       "    </tr>\n",
       "    <tr>\n",
       "      <th>14200</th>\n",
       "      <td>California</td>\n",
       "      <td>Alameda</td>\n",
       "      <td>6</td>\n",
       "      <td>1</td>\n",
       "      <td>2020-01-04</td>\n",
       "      <td>45</td>\n",
       "      <td>Good</td>\n",
       "      <td>PM2.5</td>\n",
       "      <td>06-001-0007</td>\n",
       "      <td>7</td>\n",
       "    </tr>\n",
       "    <tr>\n",
       "      <th>14201</th>\n",
       "      <td>California</td>\n",
       "      <td>Alameda</td>\n",
       "      <td>6</td>\n",
       "      <td>1</td>\n",
       "      <td>2020-01-05</td>\n",
       "      <td>33</td>\n",
       "      <td>Good</td>\n",
       "      <td>PM2.5</td>\n",
       "      <td>06-001-0007</td>\n",
       "      <td>7</td>\n",
       "    </tr>\n",
       "    <tr>\n",
       "      <th>...</th>\n",
       "      <td>...</td>\n",
       "      <td>...</td>\n",
       "      <td>...</td>\n",
       "      <td>...</td>\n",
       "      <td>...</td>\n",
       "      <td>...</td>\n",
       "      <td>...</td>\n",
       "      <td>...</td>\n",
       "      <td>...</td>\n",
       "      <td>...</td>\n",
       "    </tr>\n",
       "    <tr>\n",
       "      <th>33445</th>\n",
       "      <td>California</td>\n",
       "      <td>Yolo</td>\n",
       "      <td>6</td>\n",
       "      <td>113</td>\n",
       "      <td>2020-12-27</td>\n",
       "      <td>20</td>\n",
       "      <td>Good</td>\n",
       "      <td>Ozone</td>\n",
       "      <td>06-113-0004</td>\n",
       "      <td>2</td>\n",
       "    </tr>\n",
       "    <tr>\n",
       "      <th>33446</th>\n",
       "      <td>California</td>\n",
       "      <td>Yolo</td>\n",
       "      <td>6</td>\n",
       "      <td>113</td>\n",
       "      <td>2020-12-28</td>\n",
       "      <td>33</td>\n",
       "      <td>Good</td>\n",
       "      <td>Ozone</td>\n",
       "      <td>06-113-0004</td>\n",
       "      <td>2</td>\n",
       "    </tr>\n",
       "    <tr>\n",
       "      <th>33447</th>\n",
       "      <td>California</td>\n",
       "      <td>Yolo</td>\n",
       "      <td>6</td>\n",
       "      <td>113</td>\n",
       "      <td>2020-12-29</td>\n",
       "      <td>28</td>\n",
       "      <td>Good</td>\n",
       "      <td>Ozone</td>\n",
       "      <td>06-113-0004</td>\n",
       "      <td>3</td>\n",
       "    </tr>\n",
       "    <tr>\n",
       "      <th>33448</th>\n",
       "      <td>California</td>\n",
       "      <td>Yolo</td>\n",
       "      <td>6</td>\n",
       "      <td>113</td>\n",
       "      <td>2020-12-30</td>\n",
       "      <td>39</td>\n",
       "      <td>Good</td>\n",
       "      <td>PM2.5</td>\n",
       "      <td>06-113-0004</td>\n",
       "      <td>2</td>\n",
       "    </tr>\n",
       "    <tr>\n",
       "      <th>33449</th>\n",
       "      <td>California</td>\n",
       "      <td>Yolo</td>\n",
       "      <td>6</td>\n",
       "      <td>113</td>\n",
       "      <td>2020-12-31</td>\n",
       "      <td>35</td>\n",
       "      <td>Good</td>\n",
       "      <td>PM2.5</td>\n",
       "      <td>06-113-0004</td>\n",
       "      <td>2</td>\n",
       "    </tr>\n",
       "  </tbody>\n",
       "</table>\n",
       "<p>19253 rows × 10 columns</p>\n",
       "</div>"
      ],
      "text/plain": [
       "       State Name county Name  State Code  County Code        Date  AQI  \\\n",
       "14197  California     Alameda           6            1  2020-01-01   53   \n",
       "14198  California     Alameda           6            1  2020-01-02   43   \n",
       "14199  California     Alameda           6            1  2020-01-03   74   \n",
       "14200  California     Alameda           6            1  2020-01-04   45   \n",
       "14201  California     Alameda           6            1  2020-01-05   33   \n",
       "...           ...         ...         ...          ...         ...  ...   \n",
       "33445  California        Yolo           6          113  2020-12-27   20   \n",
       "33446  California        Yolo           6          113  2020-12-28   33   \n",
       "33447  California        Yolo           6          113  2020-12-29   28   \n",
       "33448  California        Yolo           6          113  2020-12-30   39   \n",
       "33449  California        Yolo           6          113  2020-12-31   35   \n",
       "\n",
       "       Category Defining Parameter Defining Site  Number of Sites Reporting  \n",
       "14197  Moderate              PM2.5   06-001-0009                          7  \n",
       "14198      Good              PM2.5   06-001-0013                          7  \n",
       "14199  Moderate              PM2.5   06-001-0013                          7  \n",
       "14200      Good              PM2.5   06-001-0007                          7  \n",
       "14201      Good              PM2.5   06-001-0007                          7  \n",
       "...         ...                ...           ...                        ...  \n",
       "33445      Good              Ozone   06-113-0004                          2  \n",
       "33446      Good              Ozone   06-113-0004                          2  \n",
       "33447      Good              Ozone   06-113-0004                          3  \n",
       "33448      Good              PM2.5   06-113-0004                          2  \n",
       "33449      Good              PM2.5   06-113-0004                          2  \n",
       "\n",
       "[19253 rows x 10 columns]"
      ]
     },
     "execution_count": 56,
     "metadata": {},
     "output_type": "execute_result"
    }
   ],
   "source": [
    "aqi_df = pd.read_csv(\"./daily_aqi_by_county_2020.csv\")\n",
    "aqi_df = aqi_df.loc[aqi_df[\"State Name\"]==\"California\"]\n",
    "aqi_df"
   ]
  },
  {
   "cell_type": "code",
   "execution_count": 64,
   "metadata": {},
   "outputs": [
    {
     "data": {
      "text/plain": [
       "31      640\n",
       "44      621\n",
       "35      598\n",
       "38      585\n",
       "36      569\n",
       "       ... \n",
       "564       1\n",
       "1851      1\n",
       "1928      1\n",
       "339       1\n",
       "217       1\n",
       "Name: AQI, Length: 306, dtype: int64"
      ]
     },
     "execution_count": 64,
     "metadata": {},
     "output_type": "execute_result"
    }
   ],
   "source": [
    "aqi_df[\"AQI\"].value_counts()"
   ]
  }
 ],
 "metadata": {
  "interpreter": {
   "hash": "72002de67b466ff28d802f2630acad848e1f15fd9f1ab0b0acea6d41849a610a"
  },
  "kernelspec": {
   "display_name": "Python 3.8.12 ('climateprojects')",
   "language": "python",
   "name": "python3"
  },
  "language_info": {
   "codemirror_mode": {
    "name": "ipython",
    "version": 3
   },
   "file_extension": ".py",
   "mimetype": "text/x-python",
   "name": "python",
   "nbconvert_exporter": "python",
   "pygments_lexer": "ipython3",
   "version": "3.8.12"
  },
  "orig_nbformat": 4
 },
 "nbformat": 4,
 "nbformat_minor": 2
}
